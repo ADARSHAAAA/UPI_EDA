{
 "cells": [
  {
   "cell_type": "code",
   "execution_count": 1,
   "id": "42b501d6",
   "metadata": {
    "_cell_guid": "b1076dfc-b9ad-4769-8c92-a6c4dae69d19",
    "_uuid": "8f2839f25d086af736a60e9eeb907d3b93b6e0e5",
    "execution": {
     "iopub.execute_input": "2025-06-16T14:15:44.115839Z",
     "iopub.status.busy": "2025-06-16T14:15:44.115442Z",
     "iopub.status.idle": "2025-06-16T14:15:46.402368Z",
     "shell.execute_reply": "2025-06-16T14:15:46.400790Z"
    },
    "papermill": {
     "duration": 2.301465,
     "end_time": "2025-06-16T14:15:46.404325",
     "exception": false,
     "start_time": "2025-06-16T14:15:44.102860",
     "status": "completed"
    },
    "tags": []
   },
   "outputs": [
    {
     "name": "stdout",
     "output_type": "stream",
     "text": [
      "/kaggle/input/upi-transactions-2024-dataset/upi_transactions_2024.csv\n"
     ]
    }
   ],
   "source": [
    "# This Python 3 environment comes with many helpful analytics libraries installed\n",
    "# It is defined by the kaggle/python Docker image: https://github.com/kaggle/docker-python\n",
    "# For example, here's several helpful packages to load\n",
    "\n",
    "import numpy as np # linear algebra\n",
    "import pandas as pd # data processing, CSV file I/O (e.g. pd.read_csv)\n",
    "\n",
    "# Input data files are available in the read-only \"../input/\" directory\n",
    "# For example, running this (by clicking run or pressing Shift+Enter) will list all files under the input directory\n",
    "\n",
    "import os\n",
    "for dirname, _, filenames in os.walk('/kaggle/input'):\n",
    "    for filename in filenames:\n",
    "        print(os.path.join(dirname, filename))\n",
    "\n",
    "# You can write up to 20GB to the current directory (/kaggle/working/) that gets preserved as output when you create a version using \"Save & Run All\" \n",
    "# You can also write temporary files to /kaggle/temp/, but they won't be saved outside of the current session"
   ]
  },
  {
   "cell_type": "code",
   "execution_count": 2,
   "id": "3b25ce65",
   "metadata": {
    "execution": {
     "iopub.execute_input": "2025-06-16T14:15:46.425834Z",
     "iopub.status.busy": "2025-06-16T14:15:46.424987Z",
     "iopub.status.idle": "2025-06-16T14:15:46.430151Z",
     "shell.execute_reply": "2025-06-16T14:15:46.428832Z"
    },
    "papermill": {
     "duration": 0.016448,
     "end_time": "2025-06-16T14:15:46.431909",
     "exception": false,
     "start_time": "2025-06-16T14:15:46.415461",
     "status": "completed"
    },
    "tags": []
   },
   "outputs": [],
   "source": [
    "import matplotlib.pyplot as plt"
   ]
  },
  {
   "cell_type": "code",
   "execution_count": 3,
   "id": "c16f4901",
   "metadata": {
    "execution": {
     "iopub.execute_input": "2025-06-16T14:15:46.452790Z",
     "iopub.status.busy": "2025-06-16T14:15:46.452448Z",
     "iopub.status.idle": "2025-06-16T14:15:47.895389Z",
     "shell.execute_reply": "2025-06-16T14:15:47.894279Z"
    },
    "papermill": {
     "duration": 1.456603,
     "end_time": "2025-06-16T14:15:47.897793",
     "exception": false,
     "start_time": "2025-06-16T14:15:46.441190",
     "status": "completed"
    },
    "tags": []
   },
   "outputs": [],
   "source": [
    "# dataset importing \n",
    "df = pd.read_csv(\"/kaggle/input/upi-transactions-2024-dataset/upi_transactions_2024.csv\")"
   ]
  },
  {
   "cell_type": "code",
   "execution_count": 4,
   "id": "010b3b13",
   "metadata": {
    "execution": {
     "iopub.execute_input": "2025-06-16T14:15:47.917650Z",
     "iopub.status.busy": "2025-06-16T14:15:47.917357Z",
     "iopub.status.idle": "2025-06-16T14:15:47.949982Z",
     "shell.execute_reply": "2025-06-16T14:15:47.948882Z"
    },
    "papermill": {
     "duration": 0.044342,
     "end_time": "2025-06-16T14:15:47.951871",
     "exception": false,
     "start_time": "2025-06-16T14:15:47.907529",
     "status": "completed"
    },
    "tags": []
   },
   "outputs": [
    {
     "data": {
      "text/html": [
       "<div>\n",
       "<style scoped>\n",
       "    .dataframe tbody tr th:only-of-type {\n",
       "        vertical-align: middle;\n",
       "    }\n",
       "\n",
       "    .dataframe tbody tr th {\n",
       "        vertical-align: top;\n",
       "    }\n",
       "\n",
       "    .dataframe thead th {\n",
       "        text-align: right;\n",
       "    }\n",
       "</style>\n",
       "<table border=\"1\" class=\"dataframe\">\n",
       "  <thead>\n",
       "    <tr style=\"text-align: right;\">\n",
       "      <th></th>\n",
       "      <th>transaction id</th>\n",
       "      <th>timestamp</th>\n",
       "      <th>transaction type</th>\n",
       "      <th>merchant_category</th>\n",
       "      <th>amount (INR)</th>\n",
       "      <th>transaction_status</th>\n",
       "      <th>sender_age_group</th>\n",
       "      <th>receiver_age_group</th>\n",
       "      <th>sender_state</th>\n",
       "      <th>sender_bank</th>\n",
       "      <th>receiver_bank</th>\n",
       "      <th>device_type</th>\n",
       "      <th>network_type</th>\n",
       "      <th>fraud_flag</th>\n",
       "      <th>hour_of_day</th>\n",
       "      <th>day_of_week</th>\n",
       "      <th>is_weekend</th>\n",
       "    </tr>\n",
       "  </thead>\n",
       "  <tbody>\n",
       "    <tr>\n",
       "      <th>0</th>\n",
       "      <td>TXN0000000001</td>\n",
       "      <td>2024-10-08 15:17:28</td>\n",
       "      <td>P2P</td>\n",
       "      <td>Entertainment</td>\n",
       "      <td>868</td>\n",
       "      <td>SUCCESS</td>\n",
       "      <td>26-35</td>\n",
       "      <td>18-25</td>\n",
       "      <td>Delhi</td>\n",
       "      <td>Axis</td>\n",
       "      <td>SBI</td>\n",
       "      <td>Android</td>\n",
       "      <td>4G</td>\n",
       "      <td>0</td>\n",
       "      <td>15</td>\n",
       "      <td>Tuesday</td>\n",
       "      <td>0</td>\n",
       "    </tr>\n",
       "    <tr>\n",
       "      <th>1</th>\n",
       "      <td>TXN0000000002</td>\n",
       "      <td>2024-04-11 06:56:00</td>\n",
       "      <td>P2M</td>\n",
       "      <td>Grocery</td>\n",
       "      <td>1011</td>\n",
       "      <td>SUCCESS</td>\n",
       "      <td>26-35</td>\n",
       "      <td>26-35</td>\n",
       "      <td>Uttar Pradesh</td>\n",
       "      <td>ICICI</td>\n",
       "      <td>Axis</td>\n",
       "      <td>iOS</td>\n",
       "      <td>4G</td>\n",
       "      <td>0</td>\n",
       "      <td>6</td>\n",
       "      <td>Thursday</td>\n",
       "      <td>0</td>\n",
       "    </tr>\n",
       "    <tr>\n",
       "      <th>2</th>\n",
       "      <td>TXN0000000003</td>\n",
       "      <td>2024-04-02 13:27:18</td>\n",
       "      <td>P2P</td>\n",
       "      <td>Grocery</td>\n",
       "      <td>477</td>\n",
       "      <td>SUCCESS</td>\n",
       "      <td>26-35</td>\n",
       "      <td>36-45</td>\n",
       "      <td>Karnataka</td>\n",
       "      <td>Yes Bank</td>\n",
       "      <td>PNB</td>\n",
       "      <td>Android</td>\n",
       "      <td>4G</td>\n",
       "      <td>0</td>\n",
       "      <td>13</td>\n",
       "      <td>Tuesday</td>\n",
       "      <td>0</td>\n",
       "    </tr>\n",
       "    <tr>\n",
       "      <th>3</th>\n",
       "      <td>TXN0000000004</td>\n",
       "      <td>2024-01-07 10:09:17</td>\n",
       "      <td>P2P</td>\n",
       "      <td>Fuel</td>\n",
       "      <td>2784</td>\n",
       "      <td>SUCCESS</td>\n",
       "      <td>26-35</td>\n",
       "      <td>26-35</td>\n",
       "      <td>Delhi</td>\n",
       "      <td>ICICI</td>\n",
       "      <td>PNB</td>\n",
       "      <td>Android</td>\n",
       "      <td>5G</td>\n",
       "      <td>0</td>\n",
       "      <td>10</td>\n",
       "      <td>Sunday</td>\n",
       "      <td>1</td>\n",
       "    </tr>\n",
       "    <tr>\n",
       "      <th>4</th>\n",
       "      <td>TXN0000000005</td>\n",
       "      <td>2024-01-23 19:04:23</td>\n",
       "      <td>P2P</td>\n",
       "      <td>Shopping</td>\n",
       "      <td>990</td>\n",
       "      <td>SUCCESS</td>\n",
       "      <td>26-35</td>\n",
       "      <td>18-25</td>\n",
       "      <td>Delhi</td>\n",
       "      <td>Axis</td>\n",
       "      <td>Yes Bank</td>\n",
       "      <td>iOS</td>\n",
       "      <td>WiFi</td>\n",
       "      <td>0</td>\n",
       "      <td>19</td>\n",
       "      <td>Tuesday</td>\n",
       "      <td>0</td>\n",
       "    </tr>\n",
       "  </tbody>\n",
       "</table>\n",
       "</div>"
      ],
      "text/plain": [
       "  transaction id            timestamp transaction type merchant_category  \\\n",
       "0  TXN0000000001  2024-10-08 15:17:28              P2P     Entertainment   \n",
       "1  TXN0000000002  2024-04-11 06:56:00              P2M           Grocery   \n",
       "2  TXN0000000003  2024-04-02 13:27:18              P2P           Grocery   \n",
       "3  TXN0000000004  2024-01-07 10:09:17              P2P              Fuel   \n",
       "4  TXN0000000005  2024-01-23 19:04:23              P2P          Shopping   \n",
       "\n",
       "   amount (INR) transaction_status sender_age_group receiver_age_group  \\\n",
       "0           868            SUCCESS            26-35              18-25   \n",
       "1          1011            SUCCESS            26-35              26-35   \n",
       "2           477            SUCCESS            26-35              36-45   \n",
       "3          2784            SUCCESS            26-35              26-35   \n",
       "4           990            SUCCESS            26-35              18-25   \n",
       "\n",
       "    sender_state sender_bank receiver_bank device_type network_type  \\\n",
       "0          Delhi        Axis           SBI     Android           4G   \n",
       "1  Uttar Pradesh       ICICI          Axis         iOS           4G   \n",
       "2      Karnataka    Yes Bank           PNB     Android           4G   \n",
       "3          Delhi       ICICI           PNB     Android           5G   \n",
       "4          Delhi        Axis      Yes Bank         iOS         WiFi   \n",
       "\n",
       "   fraud_flag  hour_of_day day_of_week  is_weekend  \n",
       "0           0           15     Tuesday           0  \n",
       "1           0            6    Thursday           0  \n",
       "2           0           13     Tuesday           0  \n",
       "3           0           10      Sunday           1  \n",
       "4           0           19     Tuesday           0  "
      ]
     },
     "execution_count": 4,
     "metadata": {},
     "output_type": "execute_result"
    }
   ],
   "source": [
    "df.head()"
   ]
  },
  {
   "cell_type": "code",
   "execution_count": 5,
   "id": "7cfb5100",
   "metadata": {
    "execution": {
     "iopub.execute_input": "2025-06-16T14:15:47.971667Z",
     "iopub.status.busy": "2025-06-16T14:15:47.971355Z",
     "iopub.status.idle": "2025-06-16T14:15:47.977439Z",
     "shell.execute_reply": "2025-06-16T14:15:47.976503Z"
    },
    "papermill": {
     "duration": 0.018114,
     "end_time": "2025-06-16T14:15:47.979525",
     "exception": false,
     "start_time": "2025-06-16T14:15:47.961411",
     "status": "completed"
    },
    "tags": []
   },
   "outputs": [
    {
     "data": {
      "text/plain": [
       "(250000, 17)"
      ]
     },
     "execution_count": 5,
     "metadata": {},
     "output_type": "execute_result"
    }
   ],
   "source": [
    "# dataset shape\n",
    "df.shape"
   ]
  },
  {
   "cell_type": "code",
   "execution_count": 6,
   "id": "47ba2e98",
   "metadata": {
    "execution": {
     "iopub.execute_input": "2025-06-16T14:15:48.001581Z",
     "iopub.status.busy": "2025-06-16T14:15:48.001296Z",
     "iopub.status.idle": "2025-06-16T14:15:48.048266Z",
     "shell.execute_reply": "2025-06-16T14:15:48.047064Z"
    },
    "papermill": {
     "duration": 0.060768,
     "end_time": "2025-06-16T14:15:48.050595",
     "exception": false,
     "start_time": "2025-06-16T14:15:47.989827",
     "status": "completed"
    },
    "tags": []
   },
   "outputs": [
    {
     "data": {
      "text/plain": [
       "transaction type\n",
       "P2P             112445\n",
       "P2M              87660\n",
       "Bill Payment     37368\n",
       "Recharge         12527\n",
       "Name: transaction type, dtype: int64"
      ]
     },
     "execution_count": 6,
     "metadata": {},
     "output_type": "execute_result"
    }
   ],
   "source": [
    "#counting the values of type of transaction\n",
    "df.groupby(\"transaction type\")[\"transaction type\"].count().sort_values(ascending=False)"
   ]
  },
  {
   "cell_type": "code",
   "execution_count": 7,
   "id": "e02a51c9",
   "metadata": {
    "execution": {
     "iopub.execute_input": "2025-06-16T14:15:48.074088Z",
     "iopub.status.busy": "2025-06-16T14:15:48.073742Z",
     "iopub.status.idle": "2025-06-16T14:15:48.108037Z",
     "shell.execute_reply": "2025-06-16T14:15:48.107085Z"
    },
    "papermill": {
     "duration": 0.048015,
     "end_time": "2025-06-16T14:15:48.109748",
     "exception": false,
     "start_time": "2025-06-16T14:15:48.061733",
     "status": "completed"
    },
    "tags": []
   },
   "outputs": [
    {
     "data": {
      "text/plain": [
       "transaction_status\n",
       "SUCCESS    237624\n",
       "FAILED      12376\n",
       "Name: transaction_status, dtype: int64"
      ]
     },
     "execution_count": 7,
     "metadata": {},
     "output_type": "execute_result"
    }
   ],
   "source": [
    "# SUCCESS and failed transaction\n",
    "df.groupby(\"transaction_status\")[\"transaction_status\"].count().sort_values(ascending=False)"
   ]
  },
  {
   "cell_type": "code",
   "execution_count": 8,
   "id": "935eb00b",
   "metadata": {
    "execution": {
     "iopub.execute_input": "2025-06-16T14:15:48.129881Z",
     "iopub.status.busy": "2025-06-16T14:15:48.129525Z",
     "iopub.status.idle": "2025-06-16T14:15:48.165587Z",
     "shell.execute_reply": "2025-06-16T14:15:48.164404Z"
    },
    "papermill": {
     "duration": 0.047713,
     "end_time": "2025-06-16T14:15:48.167160",
     "exception": false,
     "start_time": "2025-06-16T14:15:48.119447",
     "status": "completed"
    },
    "tags": []
   },
   "outputs": [
    {
     "data": {
      "text/plain": [
       "sender_bank\n",
       "SBI         62693\n",
       "HDFC        37485\n",
       "ICICI       29769\n",
       "IndusInd    25173\n",
       "Axis        25042\n",
       "PNB         24946\n",
       "Yes Bank    24860\n",
       "Kotak       20032\n",
       "Name: sender_bank, dtype: int64"
      ]
     },
     "execution_count": 8,
     "metadata": {},
     "output_type": "execute_result"
    }
   ],
   "source": [
    "# bank used by sender \n",
    "df.groupby(\"sender_bank\")[\"sender_bank\"].count().sort_values(ascending=False)"
   ]
  },
  {
   "cell_type": "code",
   "execution_count": 9,
   "id": "0599c912",
   "metadata": {
    "execution": {
     "iopub.execute_input": "2025-06-16T14:15:48.187423Z",
     "iopub.status.busy": "2025-06-16T14:15:48.187091Z",
     "iopub.status.idle": "2025-06-16T14:15:48.224949Z",
     "shell.execute_reply": "2025-06-16T14:15:48.223979Z"
    },
    "papermill": {
     "duration": 0.049546,
     "end_time": "2025-06-16T14:15:48.226533",
     "exception": false,
     "start_time": "2025-06-16T14:15:48.176987",
     "status": "completed"
    },
    "tags": []
   },
   "outputs": [
    {
     "data": {
      "text/plain": [
       "receiver_bank\n",
       "SBI         62378\n",
       "HDFC        37651\n",
       "ICICI       29944\n",
       "IndusInd    25086\n",
       "Yes Bank    25009\n",
       "Axis        24992\n",
       "PNB         24802\n",
       "Kotak       20138\n",
       "Name: receiver_bank, dtype: int64"
      ]
     },
     "execution_count": 9,
     "metadata": {},
     "output_type": "execute_result"
    }
   ],
   "source": [
    "#bank used by the receiver \n",
    "df.groupby(\"receiver_bank\")[\"receiver_bank\"].count().sort_values(ascending=False)"
   ]
  },
  {
   "cell_type": "code",
   "execution_count": 10,
   "id": "18db2174",
   "metadata": {
    "execution": {
     "iopub.execute_input": "2025-06-16T14:15:48.247150Z",
     "iopub.status.busy": "2025-06-16T14:15:48.246778Z",
     "iopub.status.idle": "2025-06-16T14:15:48.284080Z",
     "shell.execute_reply": "2025-06-16T14:15:48.283047Z"
    },
    "papermill": {
     "duration": 0.049431,
     "end_time": "2025-06-16T14:15:48.285779",
     "exception": false,
     "start_time": "2025-06-16T14:15:48.236348",
     "status": "completed"
    },
    "tags": []
   },
   "outputs": [
    {
     "data": {
      "text/plain": [
       "merchant_category\n",
       "Grocery          49966\n",
       "Food             37464\n",
       "Shopping         29872\n",
       "Fuel             25063\n",
       "Other            24828\n",
       "Utilities        22338\n",
       "Transport        20105\n",
       "Entertainment    20103\n",
       "Healthcare       12663\n",
       "Education         7598\n",
       "Name: merchant_category, dtype: int64"
      ]
     },
     "execution_count": 10,
     "metadata": {},
     "output_type": "execute_result"
    }
   ],
   "source": [
    "# number of transaction done in particular category\n",
    "df.groupby(\"merchant_category\")[\"merchant_category\"].count().sort_values(ascending=False)"
   ]
  },
  {
   "cell_type": "code",
   "execution_count": 11,
   "id": "5a9dde40",
   "metadata": {
    "execution": {
     "iopub.execute_input": "2025-06-16T14:15:48.306592Z",
     "iopub.status.busy": "2025-06-16T14:15:48.306303Z",
     "iopub.status.idle": "2025-06-16T14:15:48.341498Z",
     "shell.execute_reply": "2025-06-16T14:15:48.340757Z"
    },
    "papermill": {
     "duration": 0.0477,
     "end_time": "2025-06-16T14:15:48.343072",
     "exception": false,
     "start_time": "2025-06-16T14:15:48.295372",
     "status": "completed"
    },
    "tags": []
   },
   "outputs": [
    {
     "data": {
      "text/plain": [
       "sender_age_group\n",
       "26-35    87432\n",
       "36-45    62873\n",
       "18-25    62345\n",
       "46-55    24841\n",
       "56+      12509\n",
       "Name: sender_age_group, dtype: int64"
      ]
     },
     "execution_count": 11,
     "metadata": {},
     "output_type": "execute_result"
    }
   ],
   "source": [
    "#  number of trnasaction by age group\n",
    "df.groupby(\"sender_age_group\")[\"sender_age_group\"].count().sort_values(ascending=False)"
   ]
  },
  {
   "cell_type": "code",
   "execution_count": 12,
   "id": "50425dbb",
   "metadata": {
    "execution": {
     "iopub.execute_input": "2025-06-16T14:15:48.363474Z",
     "iopub.status.busy": "2025-06-16T14:15:48.363166Z",
     "iopub.status.idle": "2025-06-16T14:15:48.397363Z",
     "shell.execute_reply": "2025-06-16T14:15:48.396196Z"
    },
    "papermill": {
     "duration": 0.047017,
     "end_time": "2025-06-16T14:15:48.399563",
     "exception": false,
     "start_time": "2025-06-16T14:15:48.352546",
     "status": "completed"
    },
    "tags": []
   },
   "outputs": [
    {
     "data": {
      "text/plain": [
       "receiver_age_group\n",
       "26-35    87864\n",
       "18-25    62611\n",
       "36-45    62151\n",
       "46-55    24823\n",
       "56+      12551\n",
       "Name: receiver_age_group, dtype: int64"
      ]
     },
     "execution_count": 12,
     "metadata": {},
     "output_type": "execute_result"
    }
   ],
   "source": [
    "# number of transaction by receivers age group\n",
    "df.groupby(\"receiver_age_group\")[\"receiver_age_group\"].count().sort_values(ascending=False)"
   ]
  },
  {
   "cell_type": "code",
   "execution_count": 13,
   "id": "5e248a1c",
   "metadata": {
    "execution": {
     "iopub.execute_input": "2025-06-16T14:15:48.422032Z",
     "iopub.status.busy": "2025-06-16T14:15:48.421692Z",
     "iopub.status.idle": "2025-06-16T14:15:48.459080Z",
     "shell.execute_reply": "2025-06-16T14:15:48.458045Z"
    },
    "papermill": {
     "duration": 0.051538,
     "end_time": "2025-06-16T14:15:48.460802",
     "exception": false,
     "start_time": "2025-06-16T14:15:48.409264",
     "status": "completed"
    },
    "tags": []
   },
   "outputs": [
    {
     "data": {
      "text/plain": [
       "sender_state\n",
       "Maharashtra       37427\n",
       "Uttar Pradesh     30125\n",
       "Karnataka         29756\n",
       "Tamil Nadu        25367\n",
       "Delhi             24870\n",
       "Telangana         22435\n",
       "Gujarat           20061\n",
       "Andhra Pradesh    20006\n",
       "Rajasthan         19981\n",
       "West Bengal       19972\n",
       "Name: sender_state, dtype: int64"
      ]
     },
     "execution_count": 13,
     "metadata": {},
     "output_type": "execute_result"
    }
   ],
   "source": [
    "# number of transaction by state \n",
    "df.groupby(\"sender_state\")[\"sender_state\"].count().sort_values(ascending=False)"
   ]
  },
  {
   "cell_type": "code",
   "execution_count": 14,
   "id": "2bea62ef",
   "metadata": {
    "execution": {
     "iopub.execute_input": "2025-06-16T14:15:48.481761Z",
     "iopub.status.busy": "2025-06-16T14:15:48.481434Z",
     "iopub.status.idle": "2025-06-16T14:15:48.515954Z",
     "shell.execute_reply": "2025-06-16T14:15:48.515045Z"
    },
    "papermill": {
     "duration": 0.046887,
     "end_time": "2025-06-16T14:15:48.517527",
     "exception": false,
     "start_time": "2025-06-16T14:15:48.470640",
     "status": "completed"
    },
    "tags": []
   },
   "outputs": [
    {
     "data": {
      "text/plain": [
       "network_type\n",
       "4G      149813\n",
       "5G       62582\n",
       "WiFi     25134\n",
       "3G       12471\n",
       "Name: network_type, dtype: int64"
      ]
     },
     "execution_count": 14,
     "metadata": {},
     "output_type": "execute_result"
    }
   ],
   "source": [
    "# number of transaction by network\n",
    "df.groupby(\"network_type\")[\"network_type\"].count().sort_values(ascending=False)"
   ]
  },
  {
   "cell_type": "code",
   "execution_count": 15,
   "id": "fbacf2a8",
   "metadata": {
    "execution": {
     "iopub.execute_input": "2025-06-16T14:15:48.539168Z",
     "iopub.status.busy": "2025-06-16T14:15:48.538794Z",
     "iopub.status.idle": "2025-06-16T14:15:48.545496Z",
     "shell.execute_reply": "2025-06-16T14:15:48.543509Z"
    },
    "papermill": {
     "duration": 0.019697,
     "end_time": "2025-06-16T14:15:48.547534",
     "exception": false,
     "start_time": "2025-06-16T14:15:48.527837",
     "status": "completed"
    },
    "tags": []
   },
   "outputs": [],
   "source": [
    "# Renaming a column \n",
    "df.rename(columns={\"amount (INR)\": \"amount\"}, inplace=True)"
   ]
  },
  {
   "cell_type": "code",
   "execution_count": 16,
   "id": "145a2fa1",
   "metadata": {
    "execution": {
     "iopub.execute_input": "2025-06-16T14:15:48.570971Z",
     "iopub.status.busy": "2025-06-16T14:15:48.570668Z",
     "iopub.status.idle": "2025-06-16T14:15:49.438528Z",
     "shell.execute_reply": "2025-06-16T14:15:49.437441Z"
    },
    "papermill": {
     "duration": 0.881946,
     "end_time": "2025-06-16T14:15:49.440339",
     "exception": false,
     "start_time": "2025-06-16T14:15:48.558393",
     "status": "completed"
    },
    "tags": []
   },
   "outputs": [
    {
     "data": {
      "image/png": "[encoded data removed]",
      "text/plain": [
       "<Figure size 640x480 with 1 Axes>"
      ]
     },
     "metadata": {},
     "output_type": "display_data"
    }
   ],
   "source": [
    "# ploting device vs amount\n",
    "plt.scatter(df[\"device_type\"],df[\"amount\"])\n",
    "plt.xlabel(\"device_type\")\n",
    "plt.ylabel(\"amount\")\n",
    "plt.show()"
   ]
  },
  {
   "cell_type": "code",
   "execution_count": 17,
   "id": "f58e7a5b",
   "metadata": {
    "execution": {
     "iopub.execute_input": "2025-06-16T14:15:49.534541Z",
     "iopub.status.busy": "2025-06-16T14:15:49.534256Z",
     "iopub.status.idle": "2025-06-16T14:15:49.571238Z",
     "shell.execute_reply": "2025-06-16T14:15:49.570205Z"
    },
    "papermill": {
     "duration": 0.121181,
     "end_time": "2025-06-16T14:15:49.572997",
     "exception": false,
     "start_time": "2025-06-16T14:15:49.451816",
     "status": "completed"
    },
    "tags": []
   },
   "outputs": [
    {
     "data": {
      "text/plain": [
       "day_of_week\n",
       "Monday       36495\n",
       "Sunday       36003\n",
       "Wednesday    35700\n",
       "Tuesday      35540\n",
       "Friday       35496\n",
       "Thursday     35432\n",
       "Saturday     35334\n",
       "Name: day_of_week, dtype: int64"
      ]
     },
     "execution_count": 17,
     "metadata": {},
     "output_type": "execute_result"
    }
   ],
   "source": [
    "# number of transaction on each day\n",
    "df.groupby(\"day_of_week\")[\"day_of_week\"].count().sort_values(ascending=False)"
   ]
  },
  {
   "cell_type": "code",
   "execution_count": 18,
   "id": "1913e02f",
   "metadata": {
    "execution": {
     "iopub.execute_input": "2025-06-16T14:15:49.595952Z",
     "iopub.status.busy": "2025-06-16T14:15:49.595669Z",
     "iopub.status.idle": "2025-06-16T14:15:49.606600Z",
     "shell.execute_reply": "2025-06-16T14:15:49.605386Z"
    },
    "papermill": {
     "duration": 0.024158,
     "end_time": "2025-06-16T14:15:49.608465",
     "exception": false,
     "start_time": "2025-06-16T14:15:49.584307",
     "status": "completed"
    },
    "tags": []
   },
   "outputs": [
    {
     "data": {
      "text/plain": [
       "hour_of_day\n",
       "19    21232\n",
       "18    20064\n",
       "20    18506\n",
       "17    18340\n",
       "12    17516\n",
       "11    16328\n",
       "21    16253\n",
       "13    15038\n",
       "16    13992\n",
       "10    13904\n",
       "15    12624\n",
       "14    11472\n",
       "9     10450\n",
       "22     9364\n",
       "8      8349\n",
       "23     5817\n",
       "7      5630\n",
       "6      3501\n",
       "0      3388\n",
       "1      2244\n",
       "5      1742\n",
       "2      1685\n",
       "3      1314\n",
       "4      1247\n",
       "Name: hour_of_day, dtype: int64"
      ]
     },
     "execution_count": 18,
     "metadata": {},
     "output_type": "execute_result"
    }
   ],
   "source": [
    "# number of transaction on each hours\n",
    "df.groupby(\"hour_of_day\")[\"hour_of_day\"].count().sort_values(ascending=False)"
   ]
  },
  {
   "cell_type": "code",
   "execution_count": 19,
   "id": "d2a6547e",
   "metadata": {
    "execution": {
     "iopub.execute_input": "2025-06-16T14:15:49.632048Z",
     "iopub.status.busy": "2025-06-16T14:15:49.631745Z",
     "iopub.status.idle": "2025-06-16T14:15:49.865429Z",
     "shell.execute_reply": "2025-06-16T14:15:49.864317Z"
    },
    "papermill": {
     "duration": 0.247474,
     "end_time": "2025-06-16T14:15:49.867457",
     "exception": false,
     "start_time": "2025-06-16T14:15:49.619983",
     "status": "completed"
    },
    "tags": []
   },
   "outputs": [],
   "source": [
    "# unpacking and making seperate column for each entity in date time series\n",
    "df['timestamp'] = pd.to_datetime(df['timestamp'])\n",
    "df['year'] = df['timestamp'].dt.year\n",
    "df['month'] = df['timestamp'].dt.month\n",
    "df['day'] = df['timestamp'].dt.day\n",
    "df['hour'] = df['timestamp'].dt.hour\n",
    "df['minute'] = df['timestamp'].dt.minute\n",
    "df['second'] = df['timestamp'].dt.second\n",
    "df['weekday'] = df['timestamp'].dt.day_name()\n"
   ]
  },
  {
   "cell_type": "code",
   "execution_count": 20,
   "id": "ea084bcb",
   "metadata": {
    "execution": {
     "iopub.execute_input": "2025-06-16T14:15:49.890207Z",
     "iopub.status.busy": "2025-06-16T14:15:49.889848Z",
     "iopub.status.idle": "2025-06-16T14:15:49.901673Z",
     "shell.execute_reply": "2025-06-16T14:15:49.900678Z"
    },
    "papermill": {
     "duration": 0.025262,
     "end_time": "2025-06-16T14:15:49.903503",
     "exception": false,
     "start_time": "2025-06-16T14:15:49.878241",
     "status": "completed"
    },
    "tags": []
   },
   "outputs": [
    {
     "data": {
      "text/plain": [
       "year\n",
       "2024    250000\n",
       "Name: year, dtype: int64"
      ]
     },
     "execution_count": 20,
     "metadata": {},
     "output_type": "execute_result"
    }
   ],
   "source": [
    "df.groupby(\"year\")[\"year\"].count().sort_values(ascending=False)"
   ]
  },
  {
   "cell_type": "code",
   "execution_count": 21,
   "id": "a67dec61",
   "metadata": {
    "execution": {
     "iopub.execute_input": "2025-06-16T14:15:49.929002Z",
     "iopub.status.busy": "2025-06-16T14:15:49.928237Z",
     "iopub.status.idle": "2025-06-16T14:15:49.939614Z",
     "shell.execute_reply": "2025-06-16T14:15:49.938608Z"
    },
    "papermill": {
     "duration": 0.025193,
     "end_time": "2025-06-16T14:15:49.941403",
     "exception": false,
     "start_time": "2025-06-16T14:15:49.916210",
     "status": "completed"
    },
    "tags": []
   },
   "outputs": [
    {
     "data": {
      "text/plain": [
       "month\n",
       "5     21333\n",
       "10    21252\n",
       "3     21234\n",
       "8     21231\n",
       "1     21221\n",
       "7     21207\n",
       "12    20636\n",
       "6     20628\n",
       "9     20597\n",
       "4     20536\n",
       "11    20366\n",
       "2     19759\n",
       "Name: month, dtype: int64"
      ]
     },
     "execution_count": 21,
     "metadata": {},
     "output_type": "execute_result"
    }
   ],
   "source": [
    "df.groupby(\"month\")[\"month\"].count().sort_values(ascending=False)"
   ]
  },
  {
   "cell_type": "code",
   "execution_count": 22,
   "id": "c951d873",
   "metadata": {
    "execution": {
     "iopub.execute_input": "2025-06-16T14:15:49.965903Z",
     "iopub.status.busy": "2025-06-16T14:15:49.965528Z",
     "iopub.status.idle": "2025-06-16T14:15:49.974972Z",
     "shell.execute_reply": "2025-06-16T14:15:49.973908Z"
    },
    "papermill": {
     "duration": 0.023825,
     "end_time": "2025-06-16T14:15:49.977208",
     "exception": false,
     "start_time": "2025-06-16T14:15:49.953383",
     "status": "completed"
    },
    "tags": []
   },
   "outputs": [],
   "source": [
    "days = df.groupby(\"day\")[\"day\"].count()"
   ]
  },
  {
   "cell_type": "code",
   "execution_count": 23,
   "id": "96c98140",
   "metadata": {
    "execution": {
     "iopub.execute_input": "2025-06-16T14:15:50.001612Z",
     "iopub.status.busy": "2025-06-16T14:15:50.001242Z",
     "iopub.status.idle": "2025-06-16T14:15:50.435773Z",
     "shell.execute_reply": "2025-06-16T14:15:50.434352Z"
    },
    "papermill": {
     "duration": 0.449485,
     "end_time": "2025-06-16T14:15:50.437766",
     "exception": false,
     "start_time": "2025-06-16T14:15:49.988281",
     "status": "completed"
    },
    "tags": []
   },
   "outputs": [
    {
     "data": {
      "image/png": "[encoded data removed]",
      "text/plain": [
       "<Figure size 1200x300 with 1 Axes>"
      ]
     },
     "metadata": {},
     "output_type": "display_data"
    }
   ],
   "source": [
    "day_series = pd.Series(days)\n",
    "\n",
    "# Scatter plot\n",
    "plt.figure(figsize=(12, 3))\n",
    "plt.scatter(day_series.index, day_series.values, color='purple')\n",
    "plt.title(\"Day-wise UPI Transaction Count (Scatter Plot)\")\n",
    "plt.xlabel(\"Day of Month\")\n",
    "plt.ylabel(\"Transaction Count\")\n",
    "plt.grid(True)\n",
    "plt.xticks(range(1, 32))\n",
    "plt.tight_layout()\n",
    "plt.show()"
   ]
  },
  {
   "cell_type": "code",
   "execution_count": 24,
   "id": "9fc75938",
   "metadata": {
    "execution": {
     "iopub.execute_input": "2025-06-16T14:15:50.464806Z",
     "iopub.status.busy": "2025-06-16T14:15:50.464461Z",
     "iopub.status.idle": "2025-06-16T14:15:50.495463Z",
     "shell.execute_reply": "2025-06-16T14:15:50.493932Z"
    },
    "papermill": {
     "duration": 0.047334,
     "end_time": "2025-06-16T14:15:50.497614",
     "exception": false,
     "start_time": "2025-06-16T14:15:50.450280",
     "status": "completed"
    },
    "tags": []
   },
   "outputs": [
    {
     "data": {
      "text/plain": [
       "sender_bank\n",
       "SBI         82816520\n",
       "HDFC        49791194\n",
       "ICICI       38731193\n",
       "IndusInd    32842711\n",
       "Yes Bank    32492477\n",
       "PNB         32476972\n",
       "Axis        32472530\n",
       "Kotak       26315412\n",
       "Name: amount, dtype: int64"
      ]
     },
     "execution_count": 24,
     "metadata": {},
     "output_type": "execute_result"
    }
   ],
   "source": [
    "df.groupby(\"sender_bank\")[\"amount\"].sum().sort_values(ascending=False)"
   ]
  },
  {
   "cell_type": "code",
   "execution_count": 25,
   "id": "3528a208",
   "metadata": {
    "execution": {
     "iopub.execute_input": "2025-06-16T14:15:50.523633Z",
     "iopub.status.busy": "2025-06-16T14:15:50.523301Z",
     "iopub.status.idle": "2025-06-16T14:15:50.536154Z",
     "shell.execute_reply": "2025-06-16T14:15:50.535159Z"
    },
    "papermill": {
     "duration": 0.027571,
     "end_time": "2025-06-16T14:15:50.537795",
     "exception": false,
     "start_time": "2025-06-16T14:15:50.510224",
     "status": "completed"
    },
    "tags": []
   },
   "outputs": [
    {
     "data": {
      "text/plain": [
       "day\n",
       "11    11135736\n",
       "25    11067517\n",
       "20    11053135\n",
       "4     11028859\n",
       "19    11019610\n",
       "21    10988522\n",
       "2     10975430\n",
       "27    10880833\n",
       "15    10853206\n",
       "22    10825969\n",
       "5     10811755\n",
       "24    10794466\n",
       "29    10794153\n",
       "26    10790257\n",
       "8     10738223\n",
       "7     10733606\n",
       "6     10726786\n",
       "1     10725035\n",
       "13    10717066\n",
       "9     10707890\n",
       "17    10682852\n",
       "10    10651291\n",
       "18    10637212\n",
       "3     10600194\n",
       "28    10589708\n",
       "12    10570825\n",
       "23    10569146\n",
       "14    10520124\n",
       "16    10464979\n",
       "30     9952456\n",
       "31     5332168\n",
       "Name: amount, dtype: int64"
      ]
     },
     "execution_count": 25,
     "metadata": {},
     "output_type": "execute_result"
    }
   ],
   "source": [
    "df.groupby(\"day\")[\"amount\"].sum().sort_values(ascending=False)"
   ]
  },
  {
   "cell_type": "code",
   "execution_count": 26,
   "id": "4a43ba5b",
   "metadata": {
    "execution": {
     "iopub.execute_input": "2025-06-16T14:15:50.564460Z",
     "iopub.status.busy": "2025-06-16T14:15:50.564074Z",
     "iopub.status.idle": "2025-06-16T14:15:50.577060Z",
     "shell.execute_reply": "2025-06-16T14:15:50.575942Z"
    },
    "papermill": {
     "duration": 0.029197,
     "end_time": "2025-06-16T14:15:50.579604",
     "exception": false,
     "start_time": "2025-06-16T14:15:50.550407",
     "status": "completed"
    },
    "tags": []
   },
   "outputs": [
    {
     "data": {
      "text/plain": [
       "month\n",
       "7     28079905\n",
       "5     28024857\n",
       "10    27866829\n",
       "8     27845907\n",
       "3     27508202\n",
       "1     27456691\n",
       "12    27311087\n",
       "9     27105761\n",
       "6     27032118\n",
       "4     26988791\n",
       "11    26892531\n",
       "2     25826330\n",
       "Name: amount, dtype: int64"
      ]
     },
     "execution_count": 26,
     "metadata": {},
     "output_type": "execute_result"
    }
   ],
   "source": [
    "df.groupby(\"month\")[\"amount\"].sum().sort_values(ascending=False)\n"
   ]
  },
  {
   "cell_type": "code",
   "execution_count": 27,
   "id": "07f7b978",
   "metadata": {
    "execution": {
     "iopub.execute_input": "2025-06-16T14:15:50.606401Z",
     "iopub.status.busy": "2025-06-16T14:15:50.605988Z",
     "iopub.status.idle": "2025-06-16T14:15:50.633772Z",
     "shell.execute_reply": "2025-06-16T14:15:50.632544Z"
    },
    "papermill": {
     "duration": 0.043568,
     "end_time": "2025-06-16T14:15:50.635478",
     "exception": false,
     "start_time": "2025-06-16T14:15:50.591910",
     "status": "completed"
    },
    "tags": []
   },
   "outputs": [
    {
     "data": {
      "text/plain": [
       "sender_state\n",
       "Maharashtra       49043948\n",
       "Uttar Pradesh     40035717\n",
       "Karnataka         38451158\n",
       "Tamil Nadu        33343518\n",
       "Delhi             32689865\n",
       "Telangana         29750930\n",
       "Rajasthan         26730470\n",
       "Gujarat           25988190\n",
       "Andhra Pradesh    25952619\n",
       "West Bengal       25952594\n",
       "Name: amount, dtype: int64"
      ]
     },
     "execution_count": 27,
     "metadata": {},
     "output_type": "execute_result"
    }
   ],
   "source": [
    "df.groupby(\"sender_state\")[\"amount\"].sum().sort_values(ascending=False)"
   ]
  },
  {
   "cell_type": "code",
   "execution_count": 28,
   "id": "33145181",
   "metadata": {
    "execution": {
     "iopub.execute_input": "2025-06-16T14:15:50.660701Z",
     "iopub.status.busy": "2025-06-16T14:15:50.660403Z",
     "iopub.status.idle": "2025-06-16T14:15:50.686503Z",
     "shell.execute_reply": "2025-06-16T14:15:50.685359Z"
    },
    "papermill": {
     "duration": 0.041245,
     "end_time": "2025-06-16T14:15:50.688487",
     "exception": false,
     "start_time": "2025-06-16T14:15:50.647242",
     "status": "completed"
    },
    "tags": []
   },
   "outputs": [
    {
     "data": {
      "text/plain": [
       "day_of_week\n",
       "Monday       47882908\n",
       "Sunday       47572544\n",
       "Tuesday      46846390\n",
       "Wednesday    46815663\n",
       "Thursday     46620985\n",
       "Friday       46332583\n",
       "Saturday     45867936\n",
       "Name: amount, dtype: int64"
      ]
     },
     "execution_count": 28,
     "metadata": {},
     "output_type": "execute_result"
    }
   ],
   "source": [
    "df.groupby(\"day_of_week\")[\"amount\"].sum().sort_values(ascending=False)\n"
   ]
  },
  {
   "cell_type": "code",
   "execution_count": 29,
   "id": "9b557692",
   "metadata": {
    "execution": {
     "iopub.execute_input": "2025-06-16T14:15:50.713429Z",
     "iopub.status.busy": "2025-06-16T14:15:50.713089Z",
     "iopub.status.idle": "2025-06-16T14:15:50.724364Z",
     "shell.execute_reply": "2025-06-16T14:15:50.723371Z"
    },
    "papermill": {
     "duration": 0.026072,
     "end_time": "2025-06-16T14:15:50.726292",
     "exception": false,
     "start_time": "2025-06-16T14:15:50.700220",
     "status": "completed"
    },
    "tags": []
   },
   "outputs": [
    {
     "data": {
      "text/plain": [
       "hour\n",
       "19    28223522\n",
       "18    26297174\n",
       "17    24514186\n",
       "20    23822014\n",
       "12    23406280\n",
       "11    21193161\n",
       "21    20995491\n",
       "13    19847819\n",
       "10    18337313\n",
       "16    17921125\n",
       "15    16658144\n",
       "14    14848621\n",
       "9     13809021\n",
       "22    12050824\n",
       "8     10979614\n",
       "23     7830425\n",
       "7      7482766\n",
       "6      4617034\n",
       "0      4532884\n",
       "1      2914350\n",
       "2      2173750\n",
       "5      2134122\n",
       "3      1678669\n",
       "4      1670700\n",
       "Name: amount, dtype: int64"
      ]
     },
     "execution_count": 29,
     "metadata": {},
     "output_type": "execute_result"
    }
   ],
   "source": [
    "df.groupby(\"hour\")[\"amount\"].sum().sort_values(ascending=False)\n"
   ]
  },
  {
   "cell_type": "code",
   "execution_count": 30,
   "id": "e50dafb5",
   "metadata": {
    "execution": {
     "iopub.execute_input": "2025-06-16T14:15:50.753491Z",
     "iopub.status.busy": "2025-06-16T14:15:50.753175Z",
     "iopub.status.idle": "2025-06-16T14:15:50.909138Z",
     "shell.execute_reply": "2025-06-16T14:15:50.907545Z"
    },
    "papermill": {
     "duration": 0.171704,
     "end_time": "2025-06-16T14:15:50.911322",
     "exception": false,
     "start_time": "2025-06-16T14:15:50.739618",
     "status": "completed"
    },
    "tags": []
   },
   "outputs": [
    {
     "data": {
      "text/plain": [
       "1309.555482611184"
      ]
     },
     "execution_count": 30,
     "metadata": {},
     "output_type": "execute_result"
    }
   ],
   "source": [
    "total_success_amount = df[df['transaction_status'] == 'SUCCESS']['amount'].sum()\n",
    "total_success_tansaction = df[df['transaction_status'] == 'SUCCESS'].shape[0]\n",
    "average_transaction_value = total_success_amount/total_success_tansaction\n",
    "average_transaction_value"
   ]
  },
  {
   "cell_type": "code",
   "execution_count": 31,
   "id": "d864f226",
   "metadata": {
    "execution": {
     "iopub.execute_input": "2025-06-16T14:15:50.936718Z",
     "iopub.status.busy": "2025-06-16T14:15:50.935890Z",
     "iopub.status.idle": "2025-06-16T14:15:51.008907Z",
     "shell.execute_reply": "2025-06-16T14:15:51.007005Z"
    },
    "papermill": {
     "duration": 0.087698,
     "end_time": "2025-06-16T14:15:51.010789",
     "exception": false,
     "start_time": "2025-06-16T14:15:50.923091",
     "status": "completed"
    },
    "tags": []
   },
   "outputs": [
    {
     "data": {
      "text/plain": [
       "1354.0075145442793"
      ]
     },
     "execution_count": 31,
     "metadata": {},
     "output_type": "execute_result"
    }
   ],
   "source": [
    "total_failed_amount = df[df['transaction_status'] == 'FAILED'][\"amount\"].sum()\n",
    "total_failed_amount\n",
    "total_failed_transaction = df[df['transaction_status'] == 'FAILED'].shape[0]\n",
    "total_failed_transaction\n",
    "average_transaction_value_of_failed = total_failed_amount/total_failed_transaction\n",
    "average_transaction_value_of_failed"
   ]
  },
  {
   "cell_type": "code",
   "execution_count": 32,
   "id": "c7a0f6d2",
   "metadata": {
    "execution": {
     "iopub.execute_input": "2025-06-16T14:15:51.039290Z",
     "iopub.status.busy": "2025-06-16T14:15:51.038902Z",
     "iopub.status.idle": "2025-06-16T14:15:51.136996Z",
     "shell.execute_reply": "2025-06-16T14:15:51.135617Z"
    },
    "papermill": {
     "duration": 0.114923,
     "end_time": "2025-06-16T14:15:51.139372",
     "exception": false,
     "start_time": "2025-06-16T14:15:51.024449",
     "status": "completed"
    },
    "tags": []
   },
   "outputs": [
    {
     "name": "stdout",
     "output_type": "stream",
     "text": [
      "sender_state\n",
      "Andhra Pradesh    24629406\n",
      "Delhi             30967845\n",
      "Gujarat           24675791\n",
      "Karnataka         36427263\n",
      "Maharashtra       46578532\n",
      "Rajasthan         25380195\n",
      "Tamil Nadu        31540228\n",
      "Telangana         28313433\n",
      "Uttar Pradesh     38020230\n",
      "West Bengal       24648889\n",
      "Name: amount, dtype: int64\n"
     ]
    }
   ],
   "source": [
    "state_tansaction_data = df[df['transaction_status'] == 'SUCCESS'].groupby(['sender_state'])[\"amount\"].sum()\n",
    "print(state_tansaction_data)"
   ]
  },
  {
   "cell_type": "code",
   "execution_count": 33,
   "id": "67fc29cc",
   "metadata": {
    "execution": {
     "iopub.execute_input": "2025-06-16T14:15:51.168140Z",
     "iopub.status.busy": "2025-06-16T14:15:51.167801Z",
     "iopub.status.idle": "2025-06-16T14:15:51.262729Z",
     "shell.execute_reply": "2025-06-16T14:15:51.261296Z"
    },
    "papermill": {
     "duration": 0.112185,
     "end_time": "2025-06-16T14:15:51.264738",
     "exception": false,
     "start_time": "2025-06-16T14:15:51.152553",
     "status": "completed"
    },
    "tags": []
   },
   "outputs": [
    {
     "data": {
      "text/plain": [
       "pandas.core.series.Series"
      ]
     },
     "execution_count": 33,
     "metadata": {},
     "output_type": "execute_result"
    }
   ],
   "source": [
    "total_state_transaction = df[df['transaction_status'] == 'SUCCESS'].groupby(['sender_state'])[\"amount\"].count()\n",
    "type(total_state_transaction)"
   ]
  },
  {
   "cell_type": "code",
   "execution_count": 34,
   "id": "c70cc351",
   "metadata": {
    "execution": {
     "iopub.execute_input": "2025-06-16T14:15:51.293407Z",
     "iopub.status.busy": "2025-06-16T14:15:51.293070Z",
     "iopub.status.idle": "2025-06-16T14:15:51.302529Z",
     "shell.execute_reply": "2025-06-16T14:15:51.301156Z"
    },
    "papermill": {
     "duration": 0.02488,
     "end_time": "2025-06-16T14:15:51.304492",
     "exception": false,
     "start_time": "2025-06-16T14:15:51.279612",
     "status": "completed"
    },
    "tags": []
   },
   "outputs": [
    {
     "name": "stderr",
     "output_type": "stream",
     "text": [
      "/tmp/ipykernel_13/3761697881.py:3: FutureWarning: Series.__getitem__ treating keys as positions is deprecated. In a future version, integer keys will always be treated as labels (consistent with DataFrame behavior). To access a value by position, use `ser.iloc[pos]`\n",
      "  avg_order_value_state.append(state_tansaction_data[i]/total_state_transaction[i])\n"
     ]
    },
    {
     "data": {
      "text/plain": [
       "[1295.8753025360413,\n",
       " 1310.3645326450303,\n",
       " 1291.7909642969323,\n",
       " 1286.7732169981277,\n",
       " 1308.9372488408037,\n",
       " 1334.1846711875098,\n",
       " 1310.4087415347542,\n",
       " 1324.3572197015762,\n",
       " 1331.566910657374,\n",
       " 1299.7041392037966]"
      ]
     },
     "execution_count": 34,
     "metadata": {},
     "output_type": "execute_result"
    }
   ],
   "source": [
    "avg_order_value_state = []\n",
    "for i in range(len(total_state_transaction)):\n",
    "    avg_order_value_state.append(state_tansaction_data[i]/total_state_transaction[i])\n",
    "avg_order_value_state"
   ]
  },
  {
   "cell_type": "code",
   "execution_count": 35,
   "id": "a7e3f975",
   "metadata": {
    "execution": {
     "iopub.execute_input": "2025-06-16T14:15:51.333052Z",
     "iopub.status.busy": "2025-06-16T14:15:51.332511Z",
     "iopub.status.idle": "2025-06-16T14:15:51.339560Z",
     "shell.execute_reply": "2025-06-16T14:15:51.338269Z"
    },
    "papermill": {
     "duration": 0.023554,
     "end_time": "2025-06-16T14:15:51.341426",
     "exception": false,
     "start_time": "2025-06-16T14:15:51.317872",
     "status": "completed"
    },
    "tags": []
   },
   "outputs": [],
   "source": [
    "state_df = total_state_transaction.to_frame()\n",
    "state_df[\"avg_val\"] = avg_order_value_state"
   ]
  },
  {
   "cell_type": "code",
   "execution_count": 36,
   "id": "7754a553",
   "metadata": {
    "execution": {
     "iopub.execute_input": "2025-06-16T14:15:51.368699Z",
     "iopub.status.busy": "2025-06-16T14:15:51.368404Z",
     "iopub.status.idle": "2025-06-16T14:15:51.381265Z",
     "shell.execute_reply": "2025-06-16T14:15:51.380154Z"
    },
    "papermill": {
     "duration": 0.02877,
     "end_time": "2025-06-16T14:15:51.382858",
     "exception": false,
     "start_time": "2025-06-16T14:15:51.354088",
     "status": "completed"
    },
    "tags": []
   },
   "outputs": [
    {
     "data": {
      "text/html": [
       "<div>\n",
       "<style scoped>\n",
       "    .dataframe tbody tr th:only-of-type {\n",
       "        vertical-align: middle;\n",
       "    }\n",
       "\n",
       "    .dataframe tbody tr th {\n",
       "        vertical-align: top;\n",
       "    }\n",
       "\n",
       "    .dataframe thead th {\n",
       "        text-align: right;\n",
       "    }\n",
       "</style>\n",
       "<table border=\"1\" class=\"dataframe\">\n",
       "  <thead>\n",
       "    <tr style=\"text-align: right;\">\n",
       "      <th></th>\n",
       "      <th>amount</th>\n",
       "      <th>avg_val</th>\n",
       "    </tr>\n",
       "    <tr>\n",
       "      <th>sender_state</th>\n",
       "      <th></th>\n",
       "      <th></th>\n",
       "    </tr>\n",
       "  </thead>\n",
       "  <tbody>\n",
       "    <tr>\n",
       "      <th>Rajasthan</th>\n",
       "      <td>19023</td>\n",
       "      <td>1334.184671</td>\n",
       "    </tr>\n",
       "    <tr>\n",
       "      <th>Uttar Pradesh</th>\n",
       "      <td>28553</td>\n",
       "      <td>1331.566911</td>\n",
       "    </tr>\n",
       "    <tr>\n",
       "      <th>Telangana</th>\n",
       "      <td>21379</td>\n",
       "      <td>1324.357220</td>\n",
       "    </tr>\n",
       "    <tr>\n",
       "      <th>Tamil Nadu</th>\n",
       "      <td>24069</td>\n",
       "      <td>1310.408742</td>\n",
       "    </tr>\n",
       "    <tr>\n",
       "      <th>Delhi</th>\n",
       "      <td>23633</td>\n",
       "      <td>1310.364533</td>\n",
       "    </tr>\n",
       "    <tr>\n",
       "      <th>Maharashtra</th>\n",
       "      <td>35585</td>\n",
       "      <td>1308.937249</td>\n",
       "    </tr>\n",
       "    <tr>\n",
       "      <th>West Bengal</th>\n",
       "      <td>18965</td>\n",
       "      <td>1299.704139</td>\n",
       "    </tr>\n",
       "    <tr>\n",
       "      <th>Andhra Pradesh</th>\n",
       "      <td>19006</td>\n",
       "      <td>1295.875303</td>\n",
       "    </tr>\n",
       "    <tr>\n",
       "      <th>Gujarat</th>\n",
       "      <td>19102</td>\n",
       "      <td>1291.790964</td>\n",
       "    </tr>\n",
       "    <tr>\n",
       "      <th>Karnataka</th>\n",
       "      <td>28309</td>\n",
       "      <td>1286.773217</td>\n",
       "    </tr>\n",
       "  </tbody>\n",
       "</table>\n",
       "</div>"
      ],
      "text/plain": [
       "                amount      avg_val\n",
       "sender_state                       \n",
       "Rajasthan        19023  1334.184671\n",
       "Uttar Pradesh    28553  1331.566911\n",
       "Telangana        21379  1324.357220\n",
       "Tamil Nadu       24069  1310.408742\n",
       "Delhi            23633  1310.364533\n",
       "Maharashtra      35585  1308.937249\n",
       "West Bengal      18965  1299.704139\n",
       "Andhra Pradesh   19006  1295.875303\n",
       "Gujarat          19102  1291.790964\n",
       "Karnataka        28309  1286.773217"
      ]
     },
     "execution_count": 36,
     "metadata": {},
     "output_type": "execute_result"
    }
   ],
   "source": [
    "state_df.sort_values(by=\"avg_val\",ascending=False)\n"
   ]
  },
  {
   "cell_type": "code",
   "execution_count": 37,
   "id": "05595d78",
   "metadata": {
    "execution": {
     "iopub.execute_input": "2025-06-16T14:15:51.411806Z",
     "iopub.status.busy": "2025-06-16T14:15:51.411496Z",
     "iopub.status.idle": "2025-06-16T14:15:51.418139Z",
     "shell.execute_reply": "2025-06-16T14:15:51.417164Z"
    },
    "papermill": {
     "duration": 0.023104,
     "end_time": "2025-06-16T14:15:51.419577",
     "exception": false,
     "start_time": "2025-06-16T14:15:51.396473",
     "status": "completed"
    },
    "tags": []
   },
   "outputs": [
    {
     "data": {
      "text/plain": [
       "Index(['transaction id', 'timestamp', 'transaction type', 'merchant_category',\n",
       "       'amount', 'transaction_status', 'sender_age_group',\n",
       "       'receiver_age_group', 'sender_state', 'sender_bank', 'receiver_bank',\n",
       "       'device_type', 'network_type', 'fraud_flag', 'hour_of_day',\n",
       "       'day_of_week', 'is_weekend', 'year', 'month', 'day', 'hour', 'minute',\n",
       "       'second', 'weekday'],\n",
       "      dtype='object')"
      ]
     },
     "execution_count": 37,
     "metadata": {},
     "output_type": "execute_result"
    }
   ],
   "source": [
    "df.columns"
   ]
  },
  {
   "cell_type": "code",
   "execution_count": 38,
   "id": "f45f3078",
   "metadata": {
    "execution": {
     "iopub.execute_input": "2025-06-16T14:15:51.450745Z",
     "iopub.status.busy": "2025-06-16T14:15:51.450373Z",
     "iopub.status.idle": "2025-06-16T14:15:51.540622Z",
     "shell.execute_reply": "2025-06-16T14:15:51.539612Z"
    },
    "papermill": {
     "duration": 0.106899,
     "end_time": "2025-06-16T14:15:51.542483",
     "exception": false,
     "start_time": "2025-06-16T14:15:51.435584",
     "status": "completed"
    },
    "tags": []
   },
   "outputs": [],
   "source": [
    " df.groupby(\"transaction_status\")[\"transaction_status\"].count().values\n",
    "failed = df.groupby(\"transaction_status\")[\"transaction_status\"].count().values[0]\n",
    "success = df.groupby(\"transaction_status\")[\"transaction_status\"].count().values[1]\n",
    "total = failed + success \n",
    "failed_percentage = failed/total*100\n",
    "success_percentage = success/total*100"
   ]
  },
  {
   "cell_type": "code",
   "execution_count": 39,
   "id": "dcb928dc",
   "metadata": {
    "execution": {
     "iopub.execute_input": "2025-06-16T14:15:51.571171Z",
     "iopub.status.busy": "2025-06-16T14:15:51.570819Z",
     "iopub.status.idle": "2025-06-16T14:15:51.605799Z",
     "shell.execute_reply": "2025-06-16T14:15:51.604250Z"
    },
    "papermill": {
     "duration": 0.051343,
     "end_time": "2025-06-16T14:15:51.607622",
     "exception": false,
     "start_time": "2025-06-16T14:15:51.556279",
     "status": "completed"
    },
    "tags": []
   },
   "outputs": [
    {
     "data": {
      "text/plain": [
       "12376     SBI\n",
       "237624    SBI\n",
       "Name: sender_bank, dtype: object"
      ]
     },
     "execution_count": 39,
     "metadata": {},
     "output_type": "execute_result"
    }
   ],
   "source": [
    "df[\"sender_bank\"][df.groupby(\"transaction_status\")[\"transaction_status\"].count()]"
   ]
  },
  {
   "cell_type": "code",
   "execution_count": 40,
   "id": "ab501f7c",
   "metadata": {
    "execution": {
     "iopub.execute_input": "2025-06-16T14:15:51.636458Z",
     "iopub.status.busy": "2025-06-16T14:15:51.636075Z",
     "iopub.status.idle": "2025-06-16T14:15:51.690681Z",
     "shell.execute_reply": "2025-06-16T14:15:51.689643Z"
    },
    "papermill": {
     "duration": 0.071097,
     "end_time": "2025-06-16T14:15:51.692570",
     "exception": false,
     "start_time": "2025-06-16T14:15:51.621473",
     "status": "completed"
    },
    "tags": []
   },
   "outputs": [
    {
     "data": {
      "text/html": [
       "<div>\n",
       "<style scoped>\n",
       "    .dataframe tbody tr th:only-of-type {\n",
       "        vertical-align: middle;\n",
       "    }\n",
       "\n",
       "    .dataframe tbody tr th {\n",
       "        vertical-align: top;\n",
       "    }\n",
       "\n",
       "    .dataframe thead th {\n",
       "        text-align: right;\n",
       "    }\n",
       "</style>\n",
       "<table border=\"1\" class=\"dataframe\">\n",
       "  <thead>\n",
       "    <tr style=\"text-align: right;\">\n",
       "      <th>transaction_status</th>\n",
       "      <th>FAILED</th>\n",
       "      <th>SUCCESS</th>\n",
       "    </tr>\n",
       "    <tr>\n",
       "      <th>sender_bank</th>\n",
       "      <th></th>\n",
       "      <th></th>\n",
       "    </tr>\n",
       "  </thead>\n",
       "  <tbody>\n",
       "    <tr>\n",
       "      <th>Axis</th>\n",
       "      <td>1239</td>\n",
       "      <td>23803</td>\n",
       "    </tr>\n",
       "    <tr>\n",
       "      <th>HDFC</th>\n",
       "      <td>1808</td>\n",
       "      <td>35677</td>\n",
       "    </tr>\n",
       "    <tr>\n",
       "      <th>ICICI</th>\n",
       "      <td>1499</td>\n",
       "      <td>28270</td>\n",
       "    </tr>\n",
       "    <tr>\n",
       "      <th>IndusInd</th>\n",
       "      <td>1247</td>\n",
       "      <td>23926</td>\n",
       "    </tr>\n",
       "    <tr>\n",
       "      <th>Kotak</th>\n",
       "      <td>998</td>\n",
       "      <td>19034</td>\n",
       "    </tr>\n",
       "    <tr>\n",
       "      <th>PNB</th>\n",
       "      <td>1221</td>\n",
       "      <td>23725</td>\n",
       "    </tr>\n",
       "    <tr>\n",
       "      <th>SBI</th>\n",
       "      <td>3095</td>\n",
       "      <td>59598</td>\n",
       "    </tr>\n",
       "    <tr>\n",
       "      <th>Yes Bank</th>\n",
       "      <td>1269</td>\n",
       "      <td>23591</td>\n",
       "    </tr>\n",
       "  </tbody>\n",
       "</table>\n",
       "</div>"
      ],
      "text/plain": [
       "transaction_status  FAILED  SUCCESS\n",
       "sender_bank                        \n",
       "Axis                  1239    23803\n",
       "HDFC                  1808    35677\n",
       "ICICI                 1499    28270\n",
       "IndusInd              1247    23926\n",
       "Kotak                  998    19034\n",
       "PNB                   1221    23725\n",
       "SBI                   3095    59598\n",
       "Yes Bank              1269    23591"
      ]
     },
     "execution_count": 40,
     "metadata": {},
     "output_type": "execute_result"
    }
   ],
   "source": [
    "bank_data = df.groupby(['sender_bank', 'transaction_status']).size().unstack()\n",
    "bank_data"
   ]
  },
  {
   "cell_type": "code",
   "execution_count": 41,
   "id": "0a65e58b",
   "metadata": {
    "execution": {
     "iopub.execute_input": "2025-06-16T14:15:51.720589Z",
     "iopub.status.busy": "2025-06-16T14:15:51.720293Z",
     "iopub.status.idle": "2025-06-16T14:15:51.727545Z",
     "shell.execute_reply": "2025-06-16T14:15:51.726161Z"
    },
    "papermill": {
     "duration": 0.023931,
     "end_time": "2025-06-16T14:15:51.729338",
     "exception": false,
     "start_time": "2025-06-16T14:15:51.705407",
     "status": "completed"
    },
    "tags": []
   },
   "outputs": [
    {
     "name": "stdout",
     "output_type": "stream",
     "text": [
      "[4.947687884354285, 4.823262638388689, 5.035439551210992, 4.9537202558296585, 4.98202875399361, 4.894572276116412, 4.9367552996347275, 5.1045856798069185]\n"
     ]
    }
   ],
   "source": [
    "failed = []\n",
    "for i in bank_data[\"FAILED\"]:\n",
    "    failed.append(i)\n",
    "success = []\n",
    "for i in bank_data[\"SUCCESS\"]:\n",
    "    success.append(i)\n",
    "percent = []\n",
    "for i in range(len(success)):\n",
    "    percent.append(failed[i]/(failed[i]+success[i])*100)\n",
    "print(percent)"
   ]
  },
  {
   "cell_type": "code",
   "execution_count": 42,
   "id": "4cf541f0",
   "metadata": {
    "execution": {
     "iopub.execute_input": "2025-06-16T14:15:51.756925Z",
     "iopub.status.busy": "2025-06-16T14:15:51.756643Z",
     "iopub.status.idle": "2025-06-16T14:15:51.762154Z",
     "shell.execute_reply": "2025-06-16T14:15:51.761030Z"
    },
    "papermill": {
     "duration": 0.021482,
     "end_time": "2025-06-16T14:15:51.763841",
     "exception": false,
     "start_time": "2025-06-16T14:15:51.742359",
     "status": "completed"
    },
    "tags": []
   },
   "outputs": [],
   "source": [
    "bank_data[\"percentage\"] = percent"
   ]
  },
  {
   "cell_type": "code",
   "execution_count": 43,
   "id": "1af009a5",
   "metadata": {
    "execution": {
     "iopub.execute_input": "2025-06-16T14:15:51.790728Z",
     "iopub.status.busy": "2025-06-16T14:15:51.790414Z",
     "iopub.status.idle": "2025-06-16T14:15:51.802369Z",
     "shell.execute_reply": "2025-06-16T14:15:51.800919Z"
    },
    "papermill": {
     "duration": 0.027527,
     "end_time": "2025-06-16T14:15:51.804304",
     "exception": false,
     "start_time": "2025-06-16T14:15:51.776777",
     "status": "completed"
    },
    "tags": []
   },
   "outputs": [
    {
     "data": {
      "text/html": [
       "<div>\n",
       "<style scoped>\n",
       "    .dataframe tbody tr th:only-of-type {\n",
       "        vertical-align: middle;\n",
       "    }\n",
       "\n",
       "    .dataframe tbody tr th {\n",
       "        vertical-align: top;\n",
       "    }\n",
       "\n",
       "    .dataframe thead th {\n",
       "        text-align: right;\n",
       "    }\n",
       "</style>\n",
       "<table border=\"1\" class=\"dataframe\">\n",
       "  <thead>\n",
       "    <tr style=\"text-align: right;\">\n",
       "      <th>transaction_status</th>\n",
       "      <th>FAILED</th>\n",
       "      <th>SUCCESS</th>\n",
       "      <th>percentage</th>\n",
       "    </tr>\n",
       "    <tr>\n",
       "      <th>sender_bank</th>\n",
       "      <th></th>\n",
       "      <th></th>\n",
       "      <th></th>\n",
       "    </tr>\n",
       "  </thead>\n",
       "  <tbody>\n",
       "    <tr>\n",
       "      <th>Yes Bank</th>\n",
       "      <td>1269</td>\n",
       "      <td>23591</td>\n",
       "      <td>5.104586</td>\n",
       "    </tr>\n",
       "    <tr>\n",
       "      <th>ICICI</th>\n",
       "      <td>1499</td>\n",
       "      <td>28270</td>\n",
       "      <td>5.035440</td>\n",
       "    </tr>\n",
       "    <tr>\n",
       "      <th>Kotak</th>\n",
       "      <td>998</td>\n",
       "      <td>19034</td>\n",
       "      <td>4.982029</td>\n",
       "    </tr>\n",
       "    <tr>\n",
       "      <th>IndusInd</th>\n",
       "      <td>1247</td>\n",
       "      <td>23926</td>\n",
       "      <td>4.953720</td>\n",
       "    </tr>\n",
       "    <tr>\n",
       "      <th>Axis</th>\n",
       "      <td>1239</td>\n",
       "      <td>23803</td>\n",
       "      <td>4.947688</td>\n",
       "    </tr>\n",
       "    <tr>\n",
       "      <th>SBI</th>\n",
       "      <td>3095</td>\n",
       "      <td>59598</td>\n",
       "      <td>4.936755</td>\n",
       "    </tr>\n",
       "    <tr>\n",
       "      <th>PNB</th>\n",
       "      <td>1221</td>\n",
       "      <td>23725</td>\n",
       "      <td>4.894572</td>\n",
       "    </tr>\n",
       "    <tr>\n",
       "      <th>HDFC</th>\n",
       "      <td>1808</td>\n",
       "      <td>35677</td>\n",
       "      <td>4.823263</td>\n",
       "    </tr>\n",
       "  </tbody>\n",
       "</table>\n",
       "</div>"
      ],
      "text/plain": [
       "transaction_status  FAILED  SUCCESS  percentage\n",
       "sender_bank                                    \n",
       "Yes Bank              1269    23591    5.104586\n",
       "ICICI                 1499    28270    5.035440\n",
       "Kotak                  998    19034    4.982029\n",
       "IndusInd              1247    23926    4.953720\n",
       "Axis                  1239    23803    4.947688\n",
       "SBI                   3095    59598    4.936755\n",
       "PNB                   1221    23725    4.894572\n",
       "HDFC                  1808    35677    4.823263"
      ]
     },
     "execution_count": 43,
     "metadata": {},
     "output_type": "execute_result"
    }
   ],
   "source": [
    "bank_data.sort_values(by='percentage', ascending=False)"
   ]
  },
  {
   "cell_type": "code",
   "execution_count": 44,
   "id": "ce9e177f",
   "metadata": {
    "execution": {
     "iopub.execute_input": "2025-06-16T14:15:51.832563Z",
     "iopub.status.busy": "2025-06-16T14:15:51.832245Z",
     "iopub.status.idle": "2025-06-16T14:15:51.853945Z",
     "shell.execute_reply": "2025-06-16T14:15:51.852946Z"
    },
    "papermill": {
     "duration": 0.037452,
     "end_time": "2025-06-16T14:15:51.855552",
     "exception": false,
     "start_time": "2025-06-16T14:15:51.818100",
     "status": "completed"
    },
    "tags": []
   },
   "outputs": [
    {
     "data": {
      "text/html": [
       "<div>\n",
       "<style scoped>\n",
       "    .dataframe tbody tr th:only-of-type {\n",
       "        vertical-align: middle;\n",
       "    }\n",
       "\n",
       "    .dataframe tbody tr th {\n",
       "        vertical-align: top;\n",
       "    }\n",
       "\n",
       "    .dataframe thead th {\n",
       "        text-align: right;\n",
       "    }\n",
       "</style>\n",
       "<table border=\"1\" class=\"dataframe\">\n",
       "  <thead>\n",
       "    <tr style=\"text-align: right;\">\n",
       "      <th></th>\n",
       "      <th>transaction id</th>\n",
       "      <th>timestamp</th>\n",
       "      <th>transaction type</th>\n",
       "      <th>merchant_category</th>\n",
       "      <th>amount</th>\n",
       "      <th>transaction_status</th>\n",
       "      <th>sender_age_group</th>\n",
       "      <th>receiver_age_group</th>\n",
       "      <th>sender_state</th>\n",
       "      <th>sender_bank</th>\n",
       "      <th>...</th>\n",
       "      <th>hour_of_day</th>\n",
       "      <th>day_of_week</th>\n",
       "      <th>is_weekend</th>\n",
       "      <th>year</th>\n",
       "      <th>month</th>\n",
       "      <th>day</th>\n",
       "      <th>hour</th>\n",
       "      <th>minute</th>\n",
       "      <th>second</th>\n",
       "      <th>weekday</th>\n",
       "    </tr>\n",
       "  </thead>\n",
       "  <tbody>\n",
       "    <tr>\n",
       "      <th>0</th>\n",
       "      <td>TXN0000000001</td>\n",
       "      <td>2024-10-08 15:17:28</td>\n",
       "      <td>P2P</td>\n",
       "      <td>Entertainment</td>\n",
       "      <td>868</td>\n",
       "      <td>SUCCESS</td>\n",
       "      <td>26-35</td>\n",
       "      <td>18-25</td>\n",
       "      <td>Delhi</td>\n",
       "      <td>Axis</td>\n",
       "      <td>...</td>\n",
       "      <td>15</td>\n",
       "      <td>Tuesday</td>\n",
       "      <td>0</td>\n",
       "      <td>2024</td>\n",
       "      <td>10</td>\n",
       "      <td>8</td>\n",
       "      <td>15</td>\n",
       "      <td>17</td>\n",
       "      <td>28</td>\n",
       "      <td>Tuesday</td>\n",
       "    </tr>\n",
       "    <tr>\n",
       "      <th>1</th>\n",
       "      <td>TXN0000000002</td>\n",
       "      <td>2024-04-11 06:56:00</td>\n",
       "      <td>P2M</td>\n",
       "      <td>Grocery</td>\n",
       "      <td>1011</td>\n",
       "      <td>SUCCESS</td>\n",
       "      <td>26-35</td>\n",
       "      <td>26-35</td>\n",
       "      <td>Uttar Pradesh</td>\n",
       "      <td>ICICI</td>\n",
       "      <td>...</td>\n",
       "      <td>6</td>\n",
       "      <td>Thursday</td>\n",
       "      <td>0</td>\n",
       "      <td>2024</td>\n",
       "      <td>4</td>\n",
       "      <td>11</td>\n",
       "      <td>6</td>\n",
       "      <td>56</td>\n",
       "      <td>0</td>\n",
       "      <td>Thursday</td>\n",
       "    </tr>\n",
       "    <tr>\n",
       "      <th>2</th>\n",
       "      <td>TXN0000000003</td>\n",
       "      <td>2024-04-02 13:27:18</td>\n",
       "      <td>P2P</td>\n",
       "      <td>Grocery</td>\n",
       "      <td>477</td>\n",
       "      <td>SUCCESS</td>\n",
       "      <td>26-35</td>\n",
       "      <td>36-45</td>\n",
       "      <td>Karnataka</td>\n",
       "      <td>Yes Bank</td>\n",
       "      <td>...</td>\n",
       "      <td>13</td>\n",
       "      <td>Tuesday</td>\n",
       "      <td>0</td>\n",
       "      <td>2024</td>\n",
       "      <td>4</td>\n",
       "      <td>2</td>\n",
       "      <td>13</td>\n",
       "      <td>27</td>\n",
       "      <td>18</td>\n",
       "      <td>Tuesday</td>\n",
       "    </tr>\n",
       "    <tr>\n",
       "      <th>3</th>\n",
       "      <td>TXN0000000004</td>\n",
       "      <td>2024-01-07 10:09:17</td>\n",
       "      <td>P2P</td>\n",
       "      <td>Fuel</td>\n",
       "      <td>2784</td>\n",
       "      <td>SUCCESS</td>\n",
       "      <td>26-35</td>\n",
       "      <td>26-35</td>\n",
       "      <td>Delhi</td>\n",
       "      <td>ICICI</td>\n",
       "      <td>...</td>\n",
       "      <td>10</td>\n",
       "      <td>Sunday</td>\n",
       "      <td>1</td>\n",
       "      <td>2024</td>\n",
       "      <td>1</td>\n",
       "      <td>7</td>\n",
       "      <td>10</td>\n",
       "      <td>9</td>\n",
       "      <td>17</td>\n",
       "      <td>Sunday</td>\n",
       "    </tr>\n",
       "    <tr>\n",
       "      <th>4</th>\n",
       "      <td>TXN0000000005</td>\n",
       "      <td>2024-01-23 19:04:23</td>\n",
       "      <td>P2P</td>\n",
       "      <td>Shopping</td>\n",
       "      <td>990</td>\n",
       "      <td>SUCCESS</td>\n",
       "      <td>26-35</td>\n",
       "      <td>18-25</td>\n",
       "      <td>Delhi</td>\n",
       "      <td>Axis</td>\n",
       "      <td>...</td>\n",
       "      <td>19</td>\n",
       "      <td>Tuesday</td>\n",
       "      <td>0</td>\n",
       "      <td>2024</td>\n",
       "      <td>1</td>\n",
       "      <td>23</td>\n",
       "      <td>19</td>\n",
       "      <td>4</td>\n",
       "      <td>23</td>\n",
       "      <td>Tuesday</td>\n",
       "    </tr>\n",
       "  </tbody>\n",
       "</table>\n",
       "<p>5 rows × 24 columns</p>\n",
       "</div>"
      ],
      "text/plain": [
       "  transaction id           timestamp transaction type merchant_category  \\\n",
       "0  TXN0000000001 2024-10-08 15:17:28              P2P     Entertainment   \n",
       "1  TXN0000000002 2024-04-11 06:56:00              P2M           Grocery   \n",
       "2  TXN0000000003 2024-04-02 13:27:18              P2P           Grocery   \n",
       "3  TXN0000000004 2024-01-07 10:09:17              P2P              Fuel   \n",
       "4  TXN0000000005 2024-01-23 19:04:23              P2P          Shopping   \n",
       "\n",
       "   amount transaction_status sender_age_group receiver_age_group  \\\n",
       "0     868            SUCCESS            26-35              18-25   \n",
       "1    1011            SUCCESS            26-35              26-35   \n",
       "2     477            SUCCESS            26-35              36-45   \n",
       "3    2784            SUCCESS            26-35              26-35   \n",
       "4     990            SUCCESS            26-35              18-25   \n",
       "\n",
       "    sender_state sender_bank  ... hour_of_day day_of_week is_weekend  year  \\\n",
       "0          Delhi        Axis  ...          15     Tuesday          0  2024   \n",
       "1  Uttar Pradesh       ICICI  ...           6    Thursday          0  2024   \n",
       "2      Karnataka    Yes Bank  ...          13     Tuesday          0  2024   \n",
       "3          Delhi       ICICI  ...          10      Sunday          1  2024   \n",
       "4          Delhi        Axis  ...          19     Tuesday          0  2024   \n",
       "\n",
       "   month day  hour  minute  second   weekday  \n",
       "0     10   8    15      17      28   Tuesday  \n",
       "1      4  11     6      56       0  Thursday  \n",
       "2      4   2    13      27      18   Tuesday  \n",
       "3      1   7    10       9      17    Sunday  \n",
       "4      1  23    19       4      23   Tuesday  \n",
       "\n",
       "[5 rows x 24 columns]"
      ]
     },
     "execution_count": 44,
     "metadata": {},
     "output_type": "execute_result"
    }
   ],
   "source": [
    "df.head()"
   ]
  },
  {
   "cell_type": "code",
   "execution_count": 45,
   "id": "fa85a6cc",
   "metadata": {
    "execution": {
     "iopub.execute_input": "2025-06-16T14:15:51.885239Z",
     "iopub.status.busy": "2025-06-16T14:15:51.884831Z",
     "iopub.status.idle": "2025-06-16T14:15:51.934316Z",
     "shell.execute_reply": "2025-06-16T14:15:51.933295Z"
    },
    "papermill": {
     "duration": 0.06571,
     "end_time": "2025-06-16T14:15:51.936039",
     "exception": false,
     "start_time": "2025-06-16T14:15:51.870329",
     "status": "completed"
    },
    "tags": []
   },
   "outputs": [
    {
     "data": {
      "text/html": [
       "<div>\n",
       "<style scoped>\n",
       "    .dataframe tbody tr th:only-of-type {\n",
       "        vertical-align: middle;\n",
       "    }\n",
       "\n",
       "    .dataframe tbody tr th {\n",
       "        vertical-align: top;\n",
       "    }\n",
       "\n",
       "    .dataframe thead th {\n",
       "        text-align: right;\n",
       "    }\n",
       "</style>\n",
       "<table border=\"1\" class=\"dataframe\">\n",
       "  <thead>\n",
       "    <tr style=\"text-align: right;\">\n",
       "      <th>transaction_status</th>\n",
       "      <th>FAILED</th>\n",
       "      <th>SUCCESS</th>\n",
       "      <th>percent</th>\n",
       "    </tr>\n",
       "    <tr>\n",
       "      <th>device_type</th>\n",
       "      <th></th>\n",
       "      <th></th>\n",
       "      <th></th>\n",
       "    </tr>\n",
       "  </thead>\n",
       "  <tbody>\n",
       "    <tr>\n",
       "      <th>Web</th>\n",
       "      <td>650</td>\n",
       "      <td>11960</td>\n",
       "      <td>5.154639</td>\n",
       "    </tr>\n",
       "    <tr>\n",
       "      <th>Android</th>\n",
       "      <td>9278</td>\n",
       "      <td>178499</td>\n",
       "      <td>4.940967</td>\n",
       "    </tr>\n",
       "    <tr>\n",
       "      <th>iOS</th>\n",
       "      <td>2448</td>\n",
       "      <td>47165</td>\n",
       "      <td>4.934191</td>\n",
       "    </tr>\n",
       "  </tbody>\n",
       "</table>\n",
       "</div>"
      ],
      "text/plain": [
       "transaction_status  FAILED  SUCCESS   percent\n",
       "device_type                                  \n",
       "Web                    650    11960  5.154639\n",
       "Android               9278   178499  4.940967\n",
       "iOS                   2448    47165  4.934191"
      ]
     },
     "execution_count": 45,
     "metadata": {},
     "output_type": "execute_result"
    }
   ],
   "source": [
    "device_success_failed = df.groupby(['device_type','transaction_status']).size().unstack()\n",
    "device_success_failed[\"percent\"] = device_success_failed[\"FAILED\"]/(device_success_failed[\"FAILED\"]+device_success_failed[\"SUCCESS\"])*100\n",
    "device_success_failed.sort_values(by=\"percent\", ascending=False)"
   ]
  },
  {
   "cell_type": "code",
   "execution_count": 46,
   "id": "22ffd113",
   "metadata": {
    "execution": {
     "iopub.execute_input": "2025-06-16T14:15:51.965019Z",
     "iopub.status.busy": "2025-06-16T14:15:51.964707Z",
     "iopub.status.idle": "2025-06-16T14:15:52.014445Z",
     "shell.execute_reply": "2025-06-16T14:15:52.013212Z"
    },
    "papermill": {
     "duration": 0.066558,
     "end_time": "2025-06-16T14:15:52.016551",
     "exception": false,
     "start_time": "2025-06-16T14:15:51.949993",
     "status": "completed"
    },
    "tags": []
   },
   "outputs": [
    {
     "data": {
      "text/html": [
       "<div>\n",
       "<style scoped>\n",
       "    .dataframe tbody tr th:only-of-type {\n",
       "        vertical-align: middle;\n",
       "    }\n",
       "\n",
       "    .dataframe tbody tr th {\n",
       "        vertical-align: top;\n",
       "    }\n",
       "\n",
       "    .dataframe thead th {\n",
       "        text-align: right;\n",
       "    }\n",
       "</style>\n",
       "<table border=\"1\" class=\"dataframe\">\n",
       "  <thead>\n",
       "    <tr style=\"text-align: right;\">\n",
       "      <th>transaction_status</th>\n",
       "      <th>FAILED</th>\n",
       "      <th>SUCCESS</th>\n",
       "      <th>percent</th>\n",
       "    </tr>\n",
       "    <tr>\n",
       "      <th>device_type</th>\n",
       "      <th></th>\n",
       "      <th></th>\n",
       "      <th></th>\n",
       "    </tr>\n",
       "  </thead>\n",
       "  <tbody>\n",
       "    <tr>\n",
       "      <th>Android</th>\n",
       "      <td>9278</td>\n",
       "      <td>178499</td>\n",
       "      <td>4.940967</td>\n",
       "    </tr>\n",
       "    <tr>\n",
       "      <th>Web</th>\n",
       "      <td>650</td>\n",
       "      <td>11960</td>\n",
       "      <td>5.154639</td>\n",
       "    </tr>\n",
       "    <tr>\n",
       "      <th>iOS</th>\n",
       "      <td>2448</td>\n",
       "      <td>47165</td>\n",
       "      <td>4.934191</td>\n",
       "    </tr>\n",
       "  </tbody>\n",
       "</table>\n",
       "</div>"
      ],
      "text/plain": [
       "transaction_status  FAILED  SUCCESS   percent\n",
       "device_type                                  \n",
       "Android               9278   178499  4.940967\n",
       "Web                    650    11960  5.154639\n",
       "iOS                   2448    47165  4.934191"
      ]
     },
     "execution_count": 46,
     "metadata": {},
     "output_type": "execute_result"
    }
   ],
   "source": [
    "device_success_failed = df.groupby(['device_type','transaction_status']).size().unstack()\n",
    "device_success_failed[\"percent\"] = device_success_failed[\"FAILED\"]/(device_success_failed[\"FAILED\"]+device_success_failed[\"SUCCESS\"])*100\n",
    "device_success_failed.sort_values(by=\"percent\", ascending=False)\n",
    "device_success_failed"
   ]
  },
  {
   "cell_type": "code",
   "execution_count": 47,
   "id": "262c6ed9",
   "metadata": {
    "execution": {
     "iopub.execute_input": "2025-06-16T14:15:52.046368Z",
     "iopub.status.busy": "2025-06-16T14:15:52.045732Z",
     "iopub.status.idle": "2025-06-16T14:15:52.090029Z",
     "shell.execute_reply": "2025-06-16T14:15:52.089081Z"
    },
    "papermill": {
     "duration": 0.061886,
     "end_time": "2025-06-16T14:15:52.092621",
     "exception": false,
     "start_time": "2025-06-16T14:15:52.030735",
     "status": "completed"
    },
    "tags": []
   },
   "outputs": [
    {
     "data": {
      "text/html": [
       "<div>\n",
       "<style scoped>\n",
       "    .dataframe tbody tr th:only-of-type {\n",
       "        vertical-align: middle;\n",
       "    }\n",
       "\n",
       "    .dataframe tbody tr th {\n",
       "        vertical-align: top;\n",
       "    }\n",
       "\n",
       "    .dataframe thead th {\n",
       "        text-align: right;\n",
       "    }\n",
       "</style>\n",
       "<table border=\"1\" class=\"dataframe\">\n",
       "  <thead>\n",
       "    <tr style=\"text-align: right;\">\n",
       "      <th>transaction_status</th>\n",
       "      <th>FAILED</th>\n",
       "      <th>SUCCESS</th>\n",
       "      <th>percent</th>\n",
       "    </tr>\n",
       "    <tr>\n",
       "      <th>network_type</th>\n",
       "      <th></th>\n",
       "      <th></th>\n",
       "      <th></th>\n",
       "    </tr>\n",
       "  </thead>\n",
       "  <tbody>\n",
       "    <tr>\n",
       "      <th>3G</th>\n",
       "      <td>651</td>\n",
       "      <td>11820</td>\n",
       "      <td>5.220111</td>\n",
       "    </tr>\n",
       "    <tr>\n",
       "      <th>4G</th>\n",
       "      <td>7464</td>\n",
       "      <td>142349</td>\n",
       "      <td>4.982211</td>\n",
       "    </tr>\n",
       "    <tr>\n",
       "      <th>WiFi</th>\n",
       "      <td>1222</td>\n",
       "      <td>23912</td>\n",
       "      <td>4.861940</td>\n",
       "    </tr>\n",
       "    <tr>\n",
       "      <th>5G</th>\n",
       "      <td>3039</td>\n",
       "      <td>59543</td>\n",
       "      <td>4.856029</td>\n",
       "    </tr>\n",
       "  </tbody>\n",
       "</table>\n",
       "</div>"
      ],
      "text/plain": [
       "transaction_status  FAILED  SUCCESS   percent\n",
       "network_type                                 \n",
       "3G                     651    11820  5.220111\n",
       "4G                    7464   142349  4.982211\n",
       "WiFi                  1222    23912  4.861940\n",
       "5G                    3039    59543  4.856029"
      ]
     },
     "execution_count": 47,
     "metadata": {},
     "output_type": "execute_result"
    }
   ],
   "source": [
    "network_success_failed = df.groupby(['network_type','transaction_status']).size().unstack()\n",
    "network_success_failed[\"percent\"] = network_success_failed[\"FAILED\"]/(network_success_failed[\"FAILED\"]+network_success_failed[\"SUCCESS\"])*100\n",
    "network_success_failed.sort_values(by=\"percent\", ascending=False)"
   ]
  },
  {
   "cell_type": "code",
   "execution_count": 48,
   "id": "f39e7cf1",
   "metadata": {
    "execution": {
     "iopub.execute_input": "2025-06-16T14:15:52.123601Z",
     "iopub.status.busy": "2025-06-16T14:15:52.123251Z",
     "iopub.status.idle": "2025-06-16T14:15:53.133581Z",
     "shell.execute_reply": "2025-06-16T14:15:53.132029Z"
    },
    "papermill": {
     "duration": 1.028936,
     "end_time": "2025-06-16T14:15:53.135711",
     "exception": false,
     "start_time": "2025-06-16T14:15:52.106775",
     "status": "completed"
    },
    "tags": []
   },
   "outputs": [],
   "source": [
    "df1 = pd.read_csv(\"/kaggle/input/upi-transactions-2024-dataset/upi_transactions_2024.csv\")"
   ]
  },
  {
   "cell_type": "code",
   "execution_count": 49,
   "id": "55305957",
   "metadata": {
    "execution": {
     "iopub.execute_input": "2025-06-16T14:15:53.166357Z",
     "iopub.status.busy": "2025-06-16T14:15:53.165223Z",
     "iopub.status.idle": "2025-06-16T14:15:53.176557Z",
     "shell.execute_reply": "2025-06-16T14:15:53.175656Z"
    },
    "papermill": {
     "duration": 0.028558,
     "end_time": "2025-06-16T14:15:53.178041",
     "exception": false,
     "start_time": "2025-06-16T14:15:53.149483",
     "status": "completed"
    },
    "tags": []
   },
   "outputs": [
    {
     "data": {
      "text/plain": [
       "fraud_flag\n",
       "0    249520\n",
       "1       480\n",
       "Name: amount, dtype: int64"
      ]
     },
     "execution_count": 49,
     "metadata": {},
     "output_type": "execute_result"
    }
   ],
   "source": [
    "flag = df.groupby(\"fraud_flag\")[\"amount\"].count()\n",
    "flag"
   ]
  },
  {
   "cell_type": "code",
   "execution_count": 50,
   "id": "8d853ba8",
   "metadata": {
    "execution": {
     "iopub.execute_input": "2025-06-16T14:15:53.210482Z",
     "iopub.status.busy": "2025-06-16T14:15:53.210137Z",
     "iopub.status.idle": "2025-06-16T14:15:53.215846Z",
     "shell.execute_reply": "2025-06-16T14:15:53.214943Z"
    },
    "papermill": {
     "duration": 0.02449,
     "end_time": "2025-06-16T14:15:53.217701",
     "exception": false,
     "start_time": "2025-06-16T14:15:53.193211",
     "status": "completed"
    },
    "tags": []
   },
   "outputs": [
    {
     "name": "stdout",
     "output_type": "stream",
     "text": [
      "0\n"
     ]
    }
   ],
   "source": [
    "total = df.shape[0]\n",
    "j=0\n",
    "for i in flag:\n",
    "    if j==1:\n",
    "        print(int(i/total*100))\n",
    "    j=j+1 "
   ]
  },
  {
   "cell_type": "code",
   "execution_count": 51,
   "id": "e752f3b0",
   "metadata": {
    "execution": {
     "iopub.execute_input": "2025-06-16T14:15:53.249445Z",
     "iopub.status.busy": "2025-06-16T14:15:53.249091Z",
     "iopub.status.idle": "2025-06-16T14:15:53.289393Z",
     "shell.execute_reply": "2025-06-16T14:15:53.288014Z"
    },
    "papermill": {
     "duration": 0.058545,
     "end_time": "2025-06-16T14:15:53.291145",
     "exception": false,
     "start_time": "2025-06-16T14:15:53.232600",
     "status": "completed"
    },
    "tags": []
   },
   "outputs": [
    {
     "name": "stdout",
     "output_type": "stream",
     "text": [
      "[24993, 37423, 29703, 25121, 19982, 24894, 62584, 24820]\n",
      "[49, 62, 66, 52, 50, 52, 109, 40]\n",
      "[19.605489537070383, '', 16.567351628677553, '', 22.21997778002222, '', 20.699812905537197, '', 25.02252026824142, '', 20.88856752631156, '', 17.416592100217308, '', 16.116035455278002, '']\n"
     ]
    },
    {
     "data": {
      "text/html": [
       "<div>\n",
       "<style scoped>\n",
       "    .dataframe tbody tr th:only-of-type {\n",
       "        vertical-align: middle;\n",
       "    }\n",
       "\n",
       "    .dataframe tbody tr th {\n",
       "        vertical-align: top;\n",
       "    }\n",
       "\n",
       "    .dataframe thead th {\n",
       "        text-align: right;\n",
       "    }\n",
       "</style>\n",
       "<table border=\"1\" class=\"dataframe\">\n",
       "  <thead>\n",
       "    <tr style=\"text-align: right;\">\n",
       "      <th></th>\n",
       "      <th></th>\n",
       "      <th>amount</th>\n",
       "      <th>percent_of_Fraud</th>\n",
       "    </tr>\n",
       "    <tr>\n",
       "      <th>sender_bank</th>\n",
       "      <th>fraud_flag</th>\n",
       "      <th></th>\n",
       "      <th></th>\n",
       "    </tr>\n",
       "  </thead>\n",
       "  <tbody>\n",
       "    <tr>\n",
       "      <th rowspan=\"2\" valign=\"top\">Axis</th>\n",
       "      <th>0</th>\n",
       "      <td>24993</td>\n",
       "      <td>19.60549</td>\n",
       "    </tr>\n",
       "    <tr>\n",
       "      <th>1</th>\n",
       "      <td>49</td>\n",
       "      <td></td>\n",
       "    </tr>\n",
       "    <tr>\n",
       "      <th rowspan=\"2\" valign=\"top\">HDFC</th>\n",
       "      <th>0</th>\n",
       "      <td>37423</td>\n",
       "      <td>16.567352</td>\n",
       "    </tr>\n",
       "    <tr>\n",
       "      <th>1</th>\n",
       "      <td>62</td>\n",
       "      <td></td>\n",
       "    </tr>\n",
       "    <tr>\n",
       "      <th rowspan=\"2\" valign=\"top\">ICICI</th>\n",
       "      <th>0</th>\n",
       "      <td>29703</td>\n",
       "      <td>22.219978</td>\n",
       "    </tr>\n",
       "    <tr>\n",
       "      <th>1</th>\n",
       "      <td>66</td>\n",
       "      <td></td>\n",
       "    </tr>\n",
       "    <tr>\n",
       "      <th rowspan=\"2\" valign=\"top\">IndusInd</th>\n",
       "      <th>0</th>\n",
       "      <td>25121</td>\n",
       "      <td>20.699813</td>\n",
       "    </tr>\n",
       "    <tr>\n",
       "      <th>1</th>\n",
       "      <td>52</td>\n",
       "      <td></td>\n",
       "    </tr>\n",
       "    <tr>\n",
       "      <th rowspan=\"2\" valign=\"top\">Kotak</th>\n",
       "      <th>0</th>\n",
       "      <td>19982</td>\n",
       "      <td>25.02252</td>\n",
       "    </tr>\n",
       "    <tr>\n",
       "      <th>1</th>\n",
       "      <td>50</td>\n",
       "      <td></td>\n",
       "    </tr>\n",
       "    <tr>\n",
       "      <th rowspan=\"2\" valign=\"top\">PNB</th>\n",
       "      <th>0</th>\n",
       "      <td>24894</td>\n",
       "      <td>20.888568</td>\n",
       "    </tr>\n",
       "    <tr>\n",
       "      <th>1</th>\n",
       "      <td>52</td>\n",
       "      <td></td>\n",
       "    </tr>\n",
       "    <tr>\n",
       "      <th rowspan=\"2\" valign=\"top\">SBI</th>\n",
       "      <th>0</th>\n",
       "      <td>62584</td>\n",
       "      <td>17.416592</td>\n",
       "    </tr>\n",
       "    <tr>\n",
       "      <th>1</th>\n",
       "      <td>109</td>\n",
       "      <td></td>\n",
       "    </tr>\n",
       "    <tr>\n",
       "      <th rowspan=\"2\" valign=\"top\">Yes Bank</th>\n",
       "      <th>0</th>\n",
       "      <td>24820</td>\n",
       "      <td>16.116035</td>\n",
       "    </tr>\n",
       "    <tr>\n",
       "      <th>1</th>\n",
       "      <td>40</td>\n",
       "      <td></td>\n",
       "    </tr>\n",
       "  </tbody>\n",
       "</table>\n",
       "</div>"
      ],
      "text/plain": [
       "                        amount percent_of_Fraud\n",
       "sender_bank fraud_flag                         \n",
       "Axis        0            24993         19.60549\n",
       "            1               49                 \n",
       "HDFC        0            37423        16.567352\n",
       "            1               62                 \n",
       "ICICI       0            29703        22.219978\n",
       "            1               66                 \n",
       "IndusInd    0            25121        20.699813\n",
       "            1               52                 \n",
       "Kotak       0            19982         25.02252\n",
       "            1               50                 \n",
       "PNB         0            24894        20.888568\n",
       "            1               52                 \n",
       "SBI         0            62584        17.416592\n",
       "            1              109                 \n",
       "Yes Bank    0            24820        16.116035\n",
       "            1               40                 "
      ]
     },
     "execution_count": 51,
     "metadata": {},
     "output_type": "execute_result"
    }
   ],
   "source": [
    "fraud_bank = df.groupby([\"sender_bank\",\"fraud_flag\"])[\"amount\"].count().to_frame()\n",
    "a = []\n",
    "b = []\n",
    "j=0\n",
    "for i in fraud_bank[\"amount\"]:\n",
    "    if j%2==0:\n",
    "        a.append(i)\n",
    "    else:\n",
    "        b.append(i)\n",
    "    j=j+1\n",
    "c = [] \n",
    "print(a)\n",
    "print(b)\n",
    "length_bank = fraud_bank.shape[0]/2\n",
    "for i in range(int(length_bank)):\n",
    "    c.append(b[i]/a[i]*10000)\n",
    "    c.append(\"\")\n",
    "print(c)\n",
    "fraud_bank[\"percent_of_Fraud\"] = c\n",
    "fraud_bank"
   ]
  },
  {
   "cell_type": "code",
   "execution_count": 52,
   "id": "c0cf2552",
   "metadata": {
    "execution": {
     "iopub.execute_input": "2025-06-16T14:15:53.324419Z",
     "iopub.status.busy": "2025-06-16T14:15:53.323551Z",
     "iopub.status.idle": "2025-06-16T14:15:53.338099Z",
     "shell.execute_reply": "2025-06-16T14:15:53.336975Z"
    },
    "papermill": {
     "duration": 0.033139,
     "end_time": "2025-06-16T14:15:53.340610",
     "exception": false,
     "start_time": "2025-06-16T14:15:53.307471",
     "status": "completed"
    },
    "tags": []
   },
   "outputs": [
    {
     "data": {
      "text/html": [
       "<div>\n",
       "<style scoped>\n",
       "    .dataframe tbody tr th:only-of-type {\n",
       "        vertical-align: middle;\n",
       "    }\n",
       "\n",
       "    .dataframe tbody tr th {\n",
       "        vertical-align: top;\n",
       "    }\n",
       "\n",
       "    .dataframe thead th {\n",
       "        text-align: right;\n",
       "    }\n",
       "</style>\n",
       "<table border=\"1\" class=\"dataframe\">\n",
       "  <thead>\n",
       "    <tr style=\"text-align: right;\">\n",
       "      <th></th>\n",
       "      <th>transaction id</th>\n",
       "      <th>timestamp</th>\n",
       "      <th>transaction type</th>\n",
       "      <th>merchant_category</th>\n",
       "      <th>amount (INR)</th>\n",
       "      <th>transaction_status</th>\n",
       "      <th>sender_age_group</th>\n",
       "      <th>receiver_age_group</th>\n",
       "      <th>sender_state</th>\n",
       "      <th>sender_bank</th>\n",
       "      <th>receiver_bank</th>\n",
       "      <th>device_type</th>\n",
       "      <th>network_type</th>\n",
       "      <th>fraud_flag</th>\n",
       "      <th>hour_of_day</th>\n",
       "      <th>day_of_week</th>\n",
       "      <th>is_weekend</th>\n",
       "    </tr>\n",
       "  </thead>\n",
       "  <tbody>\n",
       "    <tr>\n",
       "      <th>0</th>\n",
       "      <td>TXN0000000001</td>\n",
       "      <td>2024-10-08 15:17:28</td>\n",
       "      <td>P2P</td>\n",
       "      <td>Entertainment</td>\n",
       "      <td>868</td>\n",
       "      <td>SUCCESS</td>\n",
       "      <td>26-35</td>\n",
       "      <td>18-25</td>\n",
       "      <td>Delhi</td>\n",
       "      <td>Axis</td>\n",
       "      <td>SBI</td>\n",
       "      <td>Android</td>\n",
       "      <td>4G</td>\n",
       "      <td>0</td>\n",
       "      <td>15</td>\n",
       "      <td>Tuesday</td>\n",
       "      <td>0</td>\n",
       "    </tr>\n",
       "  </tbody>\n",
       "</table>\n",
       "</div>"
      ],
      "text/plain": [
       "  transaction id            timestamp transaction type merchant_category  \\\n",
       "0  TXN0000000001  2024-10-08 15:17:28              P2P     Entertainment   \n",
       "\n",
       "   amount (INR) transaction_status sender_age_group receiver_age_group  \\\n",
       "0           868            SUCCESS            26-35              18-25   \n",
       "\n",
       "  sender_state sender_bank receiver_bank device_type network_type  fraud_flag  \\\n",
       "0        Delhi        Axis           SBI     Android           4G           0   \n",
       "\n",
       "   hour_of_day day_of_week  is_weekend  \n",
       "0           15     Tuesday           0  "
      ]
     },
     "execution_count": 52,
     "metadata": {},
     "output_type": "execute_result"
    }
   ],
   "source": [
    "df1.head(1)"
   ]
  },
  {
   "cell_type": "code",
   "execution_count": 53,
   "id": "426360f8",
   "metadata": {
    "execution": {
     "iopub.execute_input": "2025-06-16T14:15:53.374654Z",
     "iopub.status.busy": "2025-06-16T14:15:53.374349Z",
     "iopub.status.idle": "2025-06-16T14:15:53.417518Z",
     "shell.execute_reply": "2025-06-16T14:15:53.416215Z"
    },
    "papermill": {
     "duration": 0.061875,
     "end_time": "2025-06-16T14:15:53.419290",
     "exception": false,
     "start_time": "2025-06-16T14:15:53.357415",
     "status": "completed"
    },
    "tags": []
   },
   "outputs": [],
   "source": [
    "a = df1.groupby(\"sender_bank\")[\"amount (INR)\"].count()\n",
    "b = df1.groupby(\"receiver_bank\")[\"amount (INR)\"].count()\n",
    "c = []\n",
    "for i, j in zip(a, b):\n",
    "    c.append(i+j)"
   ]
  },
  {
   "cell_type": "code",
   "execution_count": 54,
   "id": "95a999da",
   "metadata": {
    "execution": {
     "iopub.execute_input": "2025-06-16T14:15:53.451254Z",
     "iopub.status.busy": "2025-06-16T14:15:53.450920Z",
     "iopub.status.idle": "2025-06-16T14:15:53.456356Z",
     "shell.execute_reply": "2025-06-16T14:15:53.455229Z"
    },
    "papermill": {
     "duration": 0.022413,
     "end_time": "2025-06-16T14:15:53.458254",
     "exception": false,
     "start_time": "2025-06-16T14:15:53.435841",
     "status": "completed"
    },
    "tags": []
   },
   "outputs": [],
   "source": [
    "a = a.to_frame()"
   ]
  },
  {
   "cell_type": "code",
   "execution_count": 55,
   "id": "288ff065",
   "metadata": {
    "execution": {
     "iopub.execute_input": "2025-06-16T14:15:53.492470Z",
     "iopub.status.busy": "2025-06-16T14:15:53.492153Z",
     "iopub.status.idle": "2025-06-16T14:15:53.497889Z",
     "shell.execute_reply": "2025-06-16T14:15:53.496911Z"
    },
    "papermill": {
     "duration": 0.025682,
     "end_time": "2025-06-16T14:15:53.500098",
     "exception": false,
     "start_time": "2025-06-16T14:15:53.474416",
     "status": "completed"
    },
    "tags": []
   },
   "outputs": [],
   "source": [
    "a[\"number_of_transacttion\"] = c"
   ]
  },
  {
   "cell_type": "code",
   "execution_count": 56,
   "id": "3a05f858",
   "metadata": {
    "execution": {
     "iopub.execute_input": "2025-06-16T14:15:53.531890Z",
     "iopub.status.busy": "2025-06-16T14:15:53.531511Z",
     "iopub.status.idle": "2025-06-16T14:15:53.541610Z",
     "shell.execute_reply": "2025-06-16T14:15:53.540312Z"
    },
    "papermill": {
     "duration": 0.028525,
     "end_time": "2025-06-16T14:15:53.543520",
     "exception": false,
     "start_time": "2025-06-16T14:15:53.514995",
     "status": "completed"
    },
    "tags": []
   },
   "outputs": [
    {
     "data": {
      "text/html": [
       "<div>\n",
       "<style scoped>\n",
       "    .dataframe tbody tr th:only-of-type {\n",
       "        vertical-align: middle;\n",
       "    }\n",
       "\n",
       "    .dataframe tbody tr th {\n",
       "        vertical-align: top;\n",
       "    }\n",
       "\n",
       "    .dataframe thead th {\n",
       "        text-align: right;\n",
       "    }\n",
       "</style>\n",
       "<table border=\"1\" class=\"dataframe\">\n",
       "  <thead>\n",
       "    <tr style=\"text-align: right;\">\n",
       "      <th></th>\n",
       "      <th>amount (INR)</th>\n",
       "      <th>number_of_transacttion</th>\n",
       "    </tr>\n",
       "    <tr>\n",
       "      <th>sender_bank</th>\n",
       "      <th></th>\n",
       "      <th></th>\n",
       "    </tr>\n",
       "  </thead>\n",
       "  <tbody>\n",
       "    <tr>\n",
       "      <th>SBI</th>\n",
       "      <td>62693</td>\n",
       "      <td>125071</td>\n",
       "    </tr>\n",
       "    <tr>\n",
       "      <th>HDFC</th>\n",
       "      <td>37485</td>\n",
       "      <td>75136</td>\n",
       "    </tr>\n",
       "    <tr>\n",
       "      <th>ICICI</th>\n",
       "      <td>29769</td>\n",
       "      <td>59713</td>\n",
       "    </tr>\n",
       "    <tr>\n",
       "      <th>IndusInd</th>\n",
       "      <td>25173</td>\n",
       "      <td>50259</td>\n",
       "    </tr>\n",
       "    <tr>\n",
       "      <th>Axis</th>\n",
       "      <td>25042</td>\n",
       "      <td>50034</td>\n",
       "    </tr>\n",
       "    <tr>\n",
       "      <th>Yes Bank</th>\n",
       "      <td>24860</td>\n",
       "      <td>49869</td>\n",
       "    </tr>\n",
       "    <tr>\n",
       "      <th>PNB</th>\n",
       "      <td>24946</td>\n",
       "      <td>49748</td>\n",
       "    </tr>\n",
       "    <tr>\n",
       "      <th>Kotak</th>\n",
       "      <td>20032</td>\n",
       "      <td>40170</td>\n",
       "    </tr>\n",
       "  </tbody>\n",
       "</table>\n",
       "</div>"
      ],
      "text/plain": [
       "             amount (INR)  number_of_transacttion\n",
       "sender_bank                                      \n",
       "SBI                 62693                  125071\n",
       "HDFC                37485                   75136\n",
       "ICICI               29769                   59713\n",
       "IndusInd            25173                   50259\n",
       "Axis                25042                   50034\n",
       "Yes Bank            24860                   49869\n",
       "PNB                 24946                   49748\n",
       "Kotak               20032                   40170"
      ]
     },
     "execution_count": 56,
     "metadata": {},
     "output_type": "execute_result"
    }
   ],
   "source": [
    "a.sort_values(by=\"number_of_transacttion\", ascending=False)"
   ]
  },
  {
   "cell_type": "code",
   "execution_count": 57,
   "id": "4323e212",
   "metadata": {
    "execution": {
     "iopub.execute_input": "2025-06-16T14:15:53.576187Z",
     "iopub.status.busy": "2025-06-16T14:15:53.575830Z",
     "iopub.status.idle": "2025-06-16T14:15:56.361847Z",
     "shell.execute_reply": "2025-06-16T14:15:56.360566Z"
    },
    "papermill": {
     "duration": 2.804205,
     "end_time": "2025-06-16T14:15:56.363451",
     "exception": false,
     "start_time": "2025-06-16T14:15:53.559246",
     "status": "completed"
    },
    "tags": []
   },
   "outputs": [
    {
     "data": {
      "image/png": "[encoded data removed]",
      "text/plain": [
       "<Figure size 800x600 with 2 Axes>"
      ]
     },
     "metadata": {},
     "output_type": "display_data"
    }
   ],
   "source": [
    "import seaborn as sns\n",
    "d = df.groupby(\"hour\")[\"amount\"].count().to_frame()\n",
    "e = df['hour'].unique()\n",
    "e = np.sort(e)\n",
    "d[\"c\"] = e\n",
    "plt.figure(figsize=(8, 6))\n",
    "sns.heatmap(d, annot=True, cmap='YlGnBu')\n",
    "plt.title(\"Heatmap Example\")\n",
    "plt.show()"
   ]
  }
 ],
 "metadata": {
  "kaggle": {
   "accelerator": "none",
   "dataSources": [
    {
     "datasetId": 7649414,
     "sourceId": 12167914,
     "sourceType": "datasetVersion"
    }
   ],
   "dockerImageVersionId": 31040,
   "isGpuEnabled": false,
   "isInternetEnabled": false,
   "language": "python",
   "sourceType": "notebook"
  },
  "kernelspec": {
   "display_name": "Python 3",
   "language": "python",
   "name": "python3"
  },
  "language_info": {
   "codemirror_mode": {
    "name": "ipython",
    "version": 3
   },
   "file_extension": ".py",
   "mimetype": "text/x-python",
   "name": "python",
   "nbconvert_exporter": "python",
   "pygments_lexer": "ipython3",
   "version": "3.11.11"
  },
  "papermill": {
   "default_parameters": {},
   "duration": 18.547259,
   "end_time": "2025-06-16T14:15:57.203902",
   "environment_variables": {},
   "exception": null,
   "input_path": "__notebook__.ipynb",
   "output_path": "__notebook__.ipynb",
   "parameters": {},
   "start_time": "2025-06-16T14:15:38.656643",
   "version": "2.6.0"
  }
 },
 "nbformat": 4,
 "nbformat_minor": 5
}
